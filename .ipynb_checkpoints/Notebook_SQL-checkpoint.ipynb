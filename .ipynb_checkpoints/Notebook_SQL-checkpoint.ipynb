{
 "cells": [
  {
   "cell_type": "markdown",
   "metadata": {},
   "source": [
    "# EDA216 - Projekt\n",
    "\n",
    "\n",
    "## Preparation\n",
    "\n",
    "Load the Jupyter SQL extension, create a new empty database and load database by evaluating the next cells:"
   ]
  },
  {
   "cell_type": "code",
   "execution_count": 1,
   "metadata": {
    "collapsed": false
   },
   "outputs": [],
   "source": [
    "%load_ext sql"
   ]
  },
  {
   "cell_type": "markdown",
   "metadata": {},
   "source": [
    "Ladda in och skapa en test-databas med påhittade värden"
   ]
  },
  {
   "cell_type": "code",
   "execution_count": 2,
   "metadata": {
    "collapsed": false
   },
   "outputs": [],
   "source": [
    "%%bash\n",
    "sqlite3 src/notebook.db < src/cookie.sql\n"
   ]
  },
  {
   "cell_type": "code",
   "execution_count": 3,
   "metadata": {
    "collapsed": false
   },
   "outputs": [],
   "source": [
    "%%bash\n",
    "sqlite3 src/notebook.db < src/orders.sql"
   ]
  },
  {
   "cell_type": "code",
   "execution_count": 4,
   "metadata": {
    "collapsed": false
   },
   "outputs": [],
   "source": [
    "%%bash\n",
    "sqlite3 src/notebook.db < src/pallets.sql\n"
   ]
  },
  {
   "cell_type": "code",
   "execution_count": 7,
   "metadata": {
    "collapsed": false
   },
   "outputs": [],
   "source": [
    "%%bash\n",
    "sqlite3 src/notebook.db < src/ingredients.sql"
   ]
  },
  {
   "cell_type": "code",
   "execution_count": 8,
   "metadata": {
    "collapsed": false
   },
   "outputs": [
    {
     "data": {
      "text/plain": [
       "u'Connected: None@src/notebook.db'"
      ]
     },
     "execution_count": 8,
     "metadata": {},
     "output_type": "execute_result"
    }
   ],
   "source": [
    "%sql sqlite:///src/notebook.db"
   ]
  },
  {
   "cell_type": "code",
   "execution_count": 9,
   "metadata": {
    "collapsed": false
   },
   "outputs": [
    {
     "name": "stdout",
     "output_type": "stream",
     "text": [
      "Done.\n"
     ]
    },
    {
     "data": {
      "text/plain": [
       "[]"
      ]
     },
     "execution_count": 9,
     "metadata": {},
     "output_type": "execute_result"
    }
   ],
   "source": [
    "%sql PRAGMA foreign_keys=ON;"
   ]
  },
  {
   "cell_type": "markdown",
   "metadata": {},
   "source": [
    "Raderar databasen. Använd ej"
   ]
  },
  {
   "cell_type": "code",
   "execution_count": 6,
   "metadata": {
    "collapsed": true
   },
   "outputs": [],
   "source": [
    "%%bash\n",
    "rm -f src/notebook.db"
   ]
  },
  {
   "cell_type": "markdown",
   "metadata": {},
   "source": [
    "# Sql commands - Simple"
   ]
  },
  {
   "cell_type": "code",
   "execution_count": 10,
   "metadata": {
    "collapsed": false
   },
   "outputs": [
    {
     "name": "stdout",
     "output_type": "stream",
     "text": [
      "Done.\n"
     ]
    },
    {
     "data": {
      "text/html": [
       "<table>\n",
       "    <tr>\n",
       "        <th>customer_name</th>\n",
       "        <th>address</th>\n",
       "        <th>country</th>\n",
       "    </tr>\n",
       "    <tr>\n",
       "        <td>Finkakor AB</td>\n",
       "        <td>Helsingborg</td>\n",
       "        <td>Sweden</td>\n",
       "    </tr>\n",
       "    <tr>\n",
       "        <td>Småbröd AB</td>\n",
       "        <td>Malmö</td>\n",
       "        <td>Sweden</td>\n",
       "    </tr>\n",
       "    <tr>\n",
       "        <td>Kaffebröd AB</td>\n",
       "        <td>Landskrona</td>\n",
       "        <td>Sweden</td>\n",
       "    </tr>\n",
       "    <tr>\n",
       "        <td>Bjudkakor AB</td>\n",
       "        <td>Ystad</td>\n",
       "        <td>Sweden</td>\n",
       "    </tr>\n",
       "    <tr>\n",
       "        <td>Kalaskakor AB</td>\n",
       "        <td>Trelleborg</td>\n",
       "        <td>Sweden</td>\n",
       "    </tr>\n",
       "    <tr>\n",
       "        <td>Partykakor AB</td>\n",
       "        <td>Kristianstad</td>\n",
       "        <td>Sweden</td>\n",
       "    </tr>\n",
       "    <tr>\n",
       "        <td>Skånekakor AB</td>\n",
       "        <td>Perstorp</td>\n",
       "        <td>Sweden</td>\n",
       "    </tr>\n",
       "</table>"
      ],
      "text/plain": [
       "[(u'Finkakor AB', u'Helsingborg', u'Sweden'),\n",
       " (u'Sm\\xe5br\\xf6d AB', u'Malm\\xf6', u'Sweden'),\n",
       " (u'Kaffebr\\xf6d AB', u'Landskrona', u'Sweden'),\n",
       " (u'Bjudkakor AB', u'Ystad', u'Sweden'),\n",
       " (u'Kalaskakor AB', u'Trelleborg', u'Sweden'),\n",
       " (u'Partykakor AB', u'Kristianstad', u'Sweden'),\n",
       " (u'Sk\\xe5nekakor AB', u'Perstorp', u'Sweden')]"
      ]
     },
     "execution_count": 10,
     "metadata": {},
     "output_type": "execute_result"
    }
   ],
   "source": [
    "%%sql\n",
    "-- See all customers --\n",
    "SELECT * \n",
    "FROM Customer"
   ]
  },
  {
   "cell_type": "code",
   "execution_count": 11,
   "metadata": {
    "collapsed": false,
    "scrolled": true
   },
   "outputs": [
    {
     "name": "stdout",
     "output_type": "stream",
     "text": [
      "Done.\n"
     ]
    },
    {
     "data": {
      "text/html": [
       "<table>\n",
       "    <tr>\n",
       "        <th>cookie_name</th>\n",
       "    </tr>\n",
       "    <tr>\n",
       "        <td>Nut ring</td>\n",
       "    </tr>\n",
       "    <tr>\n",
       "        <td>Nut cookie</td>\n",
       "    </tr>\n",
       "    <tr>\n",
       "        <td>Amneris</td>\n",
       "    </tr>\n",
       "    <tr>\n",
       "        <td>Tango</td>\n",
       "    </tr>\n",
       "    <tr>\n",
       "        <td>Almond delight</td>\n",
       "    </tr>\n",
       "    <tr>\n",
       "        <td>Berliner</td>\n",
       "    </tr>\n",
       "</table>"
      ],
      "text/plain": [
       "[(u'Nut ring',),\n",
       " (u'Nut cookie',),\n",
       " (u'Amneris',),\n",
       " (u'Tango',),\n",
       " (u'Almond delight',),\n",
       " (u'Berliner',)]"
      ]
     },
     "execution_count": 11,
     "metadata": {},
     "output_type": "execute_result"
    }
   ],
   "source": [
    "%%sql\n",
    "-- See all cookies --\n",
    "SELECT *\n",
    "FROM Cookie"
   ]
  },
  {
   "cell_type": "code",
   "execution_count": 12,
   "metadata": {
    "collapsed": false
   },
   "outputs": [
    {
     "name": "stdout",
     "output_type": "stream",
     "text": [
      "Done.\n"
     ]
    },
    {
     "data": {
      "text/html": [
       "<table>\n",
       "    <tr>\n",
       "        <th>order_id</th>\n",
       "        <th>customer_name</th>\n",
       "        <th>delivery_date</th>\n",
       "    </tr>\n",
       "    <tr>\n",
       "        <td>100</td>\n",
       "        <td>Kalaskakor AB</td>\n",
       "        <td>2017-04-22</td>\n",
       "    </tr>\n",
       "    <tr>\n",
       "        <td>101</td>\n",
       "        <td>Bjudkakor AB</td>\n",
       "        <td>2017-05-24</td>\n",
       "    </tr>\n",
       "    <tr>\n",
       "        <td>102</td>\n",
       "        <td>Bjudkakor AB</td>\n",
       "        <td>2017-04-24</td>\n",
       "    </tr>\n",
       "    <tr>\n",
       "        <td>103</td>\n",
       "        <td>Kalaskakor AB</td>\n",
       "        <td>2017-03-30</td>\n",
       "    </tr>\n",
       "    <tr>\n",
       "        <td>104</td>\n",
       "        <td>Bjudkakor AB</td>\n",
       "        <td>2017-04-01</td>\n",
       "    </tr>\n",
       "    <tr>\n",
       "        <td>105</td>\n",
       "        <td>Partykakor AB</td>\n",
       "        <td>2017-04-24</td>\n",
       "    </tr>\n",
       "</table>"
      ],
      "text/plain": [
       "[(100, u'Kalaskakor AB', u'2017-04-22'),\n",
       " (101, u'Bjudkakor AB', u'2017-05-24'),\n",
       " (102, u'Bjudkakor AB', u'2017-04-24'),\n",
       " (103, u'Kalaskakor AB', u'2017-03-30'),\n",
       " (104, u'Bjudkakor AB', u'2017-04-01'),\n",
       " (105, u'Partykakor AB', u'2017-04-24')]"
      ]
     },
     "execution_count": 12,
     "metadata": {},
     "output_type": "execute_result"
    }
   ],
   "source": [
    "%%sql\n",
    "-- See all orders --\n",
    "SELEcT *\n",
    "FROM Order_Bill"
   ]
  },
  {
   "cell_type": "markdown",
   "metadata": {},
   "source": [
    "# FOR CONNECTING PALLETS TO AN ORDER"
   ]
  },
  {
   "cell_type": "code",
   "execution_count": 13,
   "metadata": {
    "collapsed": false
   },
   "outputs": [
    {
     "name": "stdout",
     "output_type": "stream",
     "text": [
      "Done.\n"
     ]
    },
    {
     "data": {
      "text/plain": [
       "[]"
      ]
     },
     "execution_count": 13,
     "metadata": {},
     "output_type": "execute_result"
    }
   ],
   "source": [
    "%%sql\n",
    "-- Adding a new order --\n",
    "INSERT INTO Order_Bill (order_id, /* Order_id must be omitted later */ customer_name, delivery_date)\n",
    "VALUES (1001, /* 1001  must be omitted later */ \"Partykakor AB\", \"2017-08-12\");\n"
   ]
  },
  {
   "cell_type": "code",
   "execution_count": 14,
   "metadata": {
    "collapsed": false
   },
   "outputs": [
    {
     "name": "stdout",
     "output_type": "stream",
     "text": [
      "2 rows affected.\n"
     ]
    },
    {
     "data": {
      "text/plain": [
       "[]"
      ]
     },
     "execution_count": 14,
     "metadata": {},
     "output_type": "execute_result"
    }
   ],
   "source": [
    "%%sql\n",
    "INSERT INTO OrderItems (order_id, cookie_name, nbrPallet)\n",
    "VALUES (1001, /* Must be omitted later */ \"Berliner\", 8),\n",
    "(1001, /* Must be omitted later */ \"Nut ring\", 4);"
   ]
  },
  {
   "cell_type": "code",
   "execution_count": 15,
   "metadata": {
    "collapsed": false
   },
   "outputs": [
    {
     "name": "stdout",
     "output_type": "stream",
     "text": [
      "Done.\n"
     ]
    },
    {
     "data": {
      "text/html": [
       "<table>\n",
       "    <tr>\n",
       "        <th>cookie_name</th>\n",
       "        <th>nbrPallet</th>\n",
       "    </tr>\n",
       "    <tr>\n",
       "        <td>Berliner</td>\n",
       "        <td>8</td>\n",
       "    </tr>\n",
       "    <tr>\n",
       "        <td>Nut ring</td>\n",
       "        <td>4</td>\n",
       "    </tr>\n",
       "</table>"
      ],
      "text/plain": [
       "[(u'Berliner', 8), (u'Nut ring', 4)]"
      ]
     },
     "execution_count": 15,
     "metadata": {},
     "output_type": "execute_result"
    }
   ],
   "source": [
    "%%sql\n",
    "-- Show Orders order items for a specific order --\n",
    "Select cookie_name, nbrPallet\n",
    "FROM Order_Bill INNER JOIN OrderItems ON Order_Bill.order_id = OrderItems.order_id\n",
    "WHERE Order_Bill.order_id = 1001"
   ]
  },
  {
   "cell_type": "code",
   "execution_count": 63,
   "metadata": {
    "collapsed": false
   },
   "outputs": [
    {
     "name": "stdout",
     "output_type": "stream",
     "text": [
      "Done.\n"
     ]
    },
    {
     "data": {
      "text/html": [
       "<table>\n",
       "    <tr>\n",
       "        <th>pallet_id</th>\n",
       "        <th>cookie_name</th>\n",
       "        <th>order_id</th>\n",
       "        <th>production_date</th>\n",
       "        <th>location</th>\n",
       "        <th>is_blocked</th>\n",
       "    </tr>\n",
       "    <tr>\n",
       "        <td>47</td>\n",
       "        <td>Berliner</td>\n",
       "        <td>103</td>\n",
       "        <td>2017-02-24</td>\n",
       "        <td>Freezer</td>\n",
       "        <td>1</td>\n",
       "    </tr>\n",
       "    <tr>\n",
       "        <td>1</td>\n",
       "        <td>Nut ring</td>\n",
       "        <td>None</td>\n",
       "        <td>2017-05-24</td>\n",
       "        <td>Freezer</td>\n",
       "        <td>0</td>\n",
       "    </tr>\n",
       "    <tr>\n",
       "        <td>2</td>\n",
       "        <td>Nut ring</td>\n",
       "        <td>None</td>\n",
       "        <td>2017-01-22</td>\n",
       "        <td>Freezer</td>\n",
       "        <td>0</td>\n",
       "    </tr>\n",
       "    <tr>\n",
       "        <td>3</td>\n",
       "        <td>Nut ring</td>\n",
       "        <td>None</td>\n",
       "        <td>2017-01-22</td>\n",
       "        <td>Freezer</td>\n",
       "        <td>0</td>\n",
       "    </tr>\n",
       "    <tr>\n",
       "        <td>4</td>\n",
       "        <td>Nut ring</td>\n",
       "        <td>None</td>\n",
       "        <td>2017-01-22</td>\n",
       "        <td>Freezer</td>\n",
       "        <td>0</td>\n",
       "    </tr>\n",
       "    <tr>\n",
       "        <td>5</td>\n",
       "        <td>Nut ring</td>\n",
       "        <td>None</td>\n",
       "        <td>2017-01-24</td>\n",
       "        <td>Freezer</td>\n",
       "        <td>0</td>\n",
       "    </tr>\n",
       "    <tr>\n",
       "        <td>6</td>\n",
       "        <td>Nut ring</td>\n",
       "        <td>None</td>\n",
       "        <td>2017-01-21</td>\n",
       "        <td>Freezer</td>\n",
       "        <td>0</td>\n",
       "    </tr>\n",
       "    <tr>\n",
       "        <td>7</td>\n",
       "        <td>Nut ring</td>\n",
       "        <td>None</td>\n",
       "        <td>2017-01-21</td>\n",
       "        <td>Freezer</td>\n",
       "        <td>0</td>\n",
       "    </tr>\n",
       "    <tr>\n",
       "        <td>8</td>\n",
       "        <td>Nut ring</td>\n",
       "        <td>None</td>\n",
       "        <td>2017-01-21</td>\n",
       "        <td>Freezer</td>\n",
       "        <td>0</td>\n",
       "    </tr>\n",
       "    <tr>\n",
       "        <td>9</td>\n",
       "        <td>Nut ring</td>\n",
       "        <td>None</td>\n",
       "        <td>2016-12-21</td>\n",
       "        <td>Freezer</td>\n",
       "        <td>0</td>\n",
       "    </tr>\n",
       "    <tr>\n",
       "        <td>10</td>\n",
       "        <td>Nut ring</td>\n",
       "        <td>None</td>\n",
       "        <td>2017-02-21</td>\n",
       "        <td>Freezer</td>\n",
       "        <td>0</td>\n",
       "    </tr>\n",
       "    <tr>\n",
       "        <td>11</td>\n",
       "        <td>Nut ring</td>\n",
       "        <td>None</td>\n",
       "        <td>2017-02-21</td>\n",
       "        <td>Freezer</td>\n",
       "        <td>0</td>\n",
       "    </tr>\n",
       "    <tr>\n",
       "        <td>12</td>\n",
       "        <td>Nut ring</td>\n",
       "        <td>None</td>\n",
       "        <td>2017-02-21</td>\n",
       "        <td>Freezer</td>\n",
       "        <td>0</td>\n",
       "    </tr>\n",
       "    <tr>\n",
       "        <td>13</td>\n",
       "        <td>Nut ring</td>\n",
       "        <td>None</td>\n",
       "        <td>2017-02-21</td>\n",
       "        <td>Freezer</td>\n",
       "        <td>0</td>\n",
       "    </tr>\n",
       "    <tr>\n",
       "        <td>14</td>\n",
       "        <td>Nut ring</td>\n",
       "        <td>None</td>\n",
       "        <td>2017-02-21</td>\n",
       "        <td>Freezer</td>\n",
       "        <td>0</td>\n",
       "    </tr>\n",
       "    <tr>\n",
       "        <td>15</td>\n",
       "        <td>Nut ring</td>\n",
       "        <td>None</td>\n",
       "        <td>2017-02-21</td>\n",
       "        <td>Freezer</td>\n",
       "        <td>0</td>\n",
       "    </tr>\n",
       "    <tr>\n",
       "        <td>16</td>\n",
       "        <td>Nut ring</td>\n",
       "        <td>None</td>\n",
       "        <td>2017-01-22</td>\n",
       "        <td>Freezer</td>\n",
       "        <td>0</td>\n",
       "    </tr>\n",
       "    <tr>\n",
       "        <td>17</td>\n",
       "        <td>Nut cookie</td>\n",
       "        <td>None</td>\n",
       "        <td>2017-01-22</td>\n",
       "        <td>Freezer</td>\n",
       "        <td>0</td>\n",
       "    </tr>\n",
       "    <tr>\n",
       "        <td>18</td>\n",
       "        <td>Nut cookie</td>\n",
       "        <td>None</td>\n",
       "        <td>2017-01-22</td>\n",
       "        <td>Freezer</td>\n",
       "        <td>0</td>\n",
       "    </tr>\n",
       "    <tr>\n",
       "        <td>19</td>\n",
       "        <td>Nut cookie</td>\n",
       "        <td>None</td>\n",
       "        <td>2017-01-24</td>\n",
       "        <td>Freezer</td>\n",
       "        <td>0</td>\n",
       "    </tr>\n",
       "    <tr>\n",
       "        <td>20</td>\n",
       "        <td>Nut cookie</td>\n",
       "        <td>None</td>\n",
       "        <td>2017-01-21</td>\n",
       "        <td>Freezer</td>\n",
       "        <td>0</td>\n",
       "    </tr>\n",
       "    <tr>\n",
       "        <td>21</td>\n",
       "        <td>Nut cookie</td>\n",
       "        <td>None</td>\n",
       "        <td>2017-01-21</td>\n",
       "        <td>Freezer</td>\n",
       "        <td>0</td>\n",
       "    </tr>\n",
       "    <tr>\n",
       "        <td>22</td>\n",
       "        <td>Nut cookie</td>\n",
       "        <td>None</td>\n",
       "        <td>2017-01-21</td>\n",
       "        <td>Freezer</td>\n",
       "        <td>0</td>\n",
       "    </tr>\n",
       "    <tr>\n",
       "        <td>23</td>\n",
       "        <td>Nut cookie</td>\n",
       "        <td>None</td>\n",
       "        <td>2016-12-21</td>\n",
       "        <td>Freezer</td>\n",
       "        <td>0</td>\n",
       "    </tr>\n",
       "    <tr>\n",
       "        <td>24</td>\n",
       "        <td>Nut cookie</td>\n",
       "        <td>None</td>\n",
       "        <td>2017-02-21</td>\n",
       "        <td>Freezer</td>\n",
       "        <td>0</td>\n",
       "    </tr>\n",
       "    <tr>\n",
       "        <td>25</td>\n",
       "        <td>Nut cookie</td>\n",
       "        <td>None</td>\n",
       "        <td>2017-02-21</td>\n",
       "        <td>Freezer</td>\n",
       "        <td>0</td>\n",
       "    </tr>\n",
       "    <tr>\n",
       "        <td>26</td>\n",
       "        <td>Nut cookie</td>\n",
       "        <td>None</td>\n",
       "        <td>2017-02-21</td>\n",
       "        <td>Freezer</td>\n",
       "        <td>0</td>\n",
       "    </tr>\n",
       "    <tr>\n",
       "        <td>27</td>\n",
       "        <td>Nut cookie</td>\n",
       "        <td>None</td>\n",
       "        <td>2017-02-21</td>\n",
       "        <td>Freezer</td>\n",
       "        <td>0</td>\n",
       "    </tr>\n",
       "    <tr>\n",
       "        <td>28</td>\n",
       "        <td>Nut cookie</td>\n",
       "        <td>None</td>\n",
       "        <td>2017-02-21</td>\n",
       "        <td>Freezer</td>\n",
       "        <td>0</td>\n",
       "    </tr>\n",
       "    <tr>\n",
       "        <td>29</td>\n",
       "        <td>Amneris</td>\n",
       "        <td>None</td>\n",
       "        <td>2017-02-21</td>\n",
       "        <td>Freezer</td>\n",
       "        <td>0</td>\n",
       "    </tr>\n",
       "    <tr>\n",
       "        <td>30</td>\n",
       "        <td>Amneris</td>\n",
       "        <td>None</td>\n",
       "        <td>2017-01-22</td>\n",
       "        <td>Freezer</td>\n",
       "        <td>0</td>\n",
       "    </tr>\n",
       "    <tr>\n",
       "        <td>31</td>\n",
       "        <td>Amneris</td>\n",
       "        <td>None</td>\n",
       "        <td>2017-01-22</td>\n",
       "        <td>Freezer</td>\n",
       "        <td>0</td>\n",
       "    </tr>\n",
       "    <tr>\n",
       "        <td>32</td>\n",
       "        <td>Amneris</td>\n",
       "        <td>None</td>\n",
       "        <td>2017-01-22</td>\n",
       "        <td>Freezer</td>\n",
       "        <td>0</td>\n",
       "    </tr>\n",
       "    <tr>\n",
       "        <td>33</td>\n",
       "        <td>Amneris</td>\n",
       "        <td>None</td>\n",
       "        <td>2017-01-24</td>\n",
       "        <td>Freezer</td>\n",
       "        <td>0</td>\n",
       "    </tr>\n",
       "    <tr>\n",
       "        <td>34</td>\n",
       "        <td>Amneris</td>\n",
       "        <td>None</td>\n",
       "        <td>2017-01-21</td>\n",
       "        <td>Freezer</td>\n",
       "        <td>0</td>\n",
       "    </tr>\n",
       "    <tr>\n",
       "        <td>35</td>\n",
       "        <td>Amneris</td>\n",
       "        <td>None</td>\n",
       "        <td>2017-01-21</td>\n",
       "        <td>Freezer</td>\n",
       "        <td>0</td>\n",
       "    </tr>\n",
       "    <tr>\n",
       "        <td>36</td>\n",
       "        <td>Amneris</td>\n",
       "        <td>None</td>\n",
       "        <td>2017-01-21</td>\n",
       "        <td>Freezer</td>\n",
       "        <td>0</td>\n",
       "    </tr>\n",
       "    <tr>\n",
       "        <td>37</td>\n",
       "        <td>Tango</td>\n",
       "        <td>None</td>\n",
       "        <td>2016-12-21</td>\n",
       "        <td>Freezer</td>\n",
       "        <td>0</td>\n",
       "    </tr>\n",
       "    <tr>\n",
       "        <td>38</td>\n",
       "        <td>Tango</td>\n",
       "        <td>None</td>\n",
       "        <td>2017-02-21</td>\n",
       "        <td>Freezer</td>\n",
       "        <td>0</td>\n",
       "    </tr>\n",
       "    <tr>\n",
       "        <td>39</td>\n",
       "        <td>Tango</td>\n",
       "        <td>None</td>\n",
       "        <td>2017-02-21</td>\n",
       "        <td>Freezer</td>\n",
       "        <td>0</td>\n",
       "    </tr>\n",
       "    <tr>\n",
       "        <td>40</td>\n",
       "        <td>Tango</td>\n",
       "        <td>None</td>\n",
       "        <td>2017-02-21</td>\n",
       "        <td>Freezer</td>\n",
       "        <td>0</td>\n",
       "    </tr>\n",
       "    <tr>\n",
       "        <td>41</td>\n",
       "        <td>Tango</td>\n",
       "        <td>None</td>\n",
       "        <td>2017-02-21</td>\n",
       "        <td>Freezer</td>\n",
       "        <td>0</td>\n",
       "    </tr>\n",
       "    <tr>\n",
       "        <td>42</td>\n",
       "        <td>Berliner</td>\n",
       "        <td>None</td>\n",
       "        <td>2017-02-21</td>\n",
       "        <td>Freezer</td>\n",
       "        <td>1</td>\n",
       "    </tr>\n",
       "    <tr>\n",
       "        <td>43</td>\n",
       "        <td>Berliner</td>\n",
       "        <td>None</td>\n",
       "        <td>2017-02-21</td>\n",
       "        <td>Freezer</td>\n",
       "        <td>1</td>\n",
       "    </tr>\n",
       "    <tr>\n",
       "        <td>44</td>\n",
       "        <td>Berliner</td>\n",
       "        <td>None</td>\n",
       "        <td>2017-02-22</td>\n",
       "        <td>Delivered</td>\n",
       "        <td>0</td>\n",
       "    </tr>\n",
       "    <tr>\n",
       "        <td>45</td>\n",
       "        <td>Berliner</td>\n",
       "        <td>None</td>\n",
       "        <td>2017-02-23</td>\n",
       "        <td>Delivered</td>\n",
       "        <td>0</td>\n",
       "    </tr>\n",
       "    <tr>\n",
       "        <td>46</td>\n",
       "        <td>Berliner</td>\n",
       "        <td>None</td>\n",
       "        <td>2017-02-23</td>\n",
       "        <td>Freezer</td>\n",
       "        <td>1</td>\n",
       "    </tr>\n",
       "    <tr>\n",
       "        <td>48</td>\n",
       "        <td>Almond delight</td>\n",
       "        <td>None</td>\n",
       "        <td>2017-02-21</td>\n",
       "        <td>Freezer</td>\n",
       "        <td>0</td>\n",
       "    </tr>\n",
       "    <tr>\n",
       "        <td>49</td>\n",
       "        <td>Almond delight</td>\n",
       "        <td>None</td>\n",
       "        <td>2017-02-21</td>\n",
       "        <td>Freezer</td>\n",
       "        <td>0</td>\n",
       "    </tr>\n",
       "    <tr>\n",
       "        <td>50</td>\n",
       "        <td>Nut ring</td>\n",
       "        <td>None</td>\n",
       "        <td>2017-02-12</td>\n",
       "        <td>asdghkskajd</td>\n",
       "        <td>0</td>\n",
       "    </tr>\n",
       "</table>"
      ],
      "text/plain": [
       "[(47, u'Berliner', 103, u'2017-02-24', u'Freezer', 1),\n",
       " (1, u'Nut ring', None, u'2017-05-24', u'Freezer', 0),\n",
       " (2, u'Nut ring', None, u'2017-01-22', u'Freezer', 0),\n",
       " (3, u'Nut ring', None, u'2017-01-22', u'Freezer', 0),\n",
       " (4, u'Nut ring', None, u'2017-01-22', u'Freezer', 0),\n",
       " (5, u'Nut ring', None, u'2017-01-24', u'Freezer', 0),\n",
       " (6, u'Nut ring', None, u'2017-01-21', u'Freezer', 0),\n",
       " (7, u'Nut ring', None, u'2017-01-21', u'Freezer', 0),\n",
       " (8, u'Nut ring', None, u'2017-01-21', u'Freezer', 0),\n",
       " (9, u'Nut ring', None, u'2016-12-21', u'Freezer', 0),\n",
       " (10, u'Nut ring', None, u'2017-02-21', u'Freezer', 0),\n",
       " (11, u'Nut ring', None, u'2017-02-21', u'Freezer', 0),\n",
       " (12, u'Nut ring', None, u'2017-02-21', u'Freezer', 0),\n",
       " (13, u'Nut ring', None, u'2017-02-21', u'Freezer', 0),\n",
       " (14, u'Nut ring', None, u'2017-02-21', u'Freezer', 0),\n",
       " (15, u'Nut ring', None, u'2017-02-21', u'Freezer', 0),\n",
       " (16, u'Nut ring', None, u'2017-01-22', u'Freezer', 0),\n",
       " (17, u'Nut cookie', None, u'2017-01-22', u'Freezer', 0),\n",
       " (18, u'Nut cookie', None, u'2017-01-22', u'Freezer', 0),\n",
       " (19, u'Nut cookie', None, u'2017-01-24', u'Freezer', 0),\n",
       " (20, u'Nut cookie', None, u'2017-01-21', u'Freezer', 0),\n",
       " (21, u'Nut cookie', None, u'2017-01-21', u'Freezer', 0),\n",
       " (22, u'Nut cookie', None, u'2017-01-21', u'Freezer', 0),\n",
       " (23, u'Nut cookie', None, u'2016-12-21', u'Freezer', 0),\n",
       " (24, u'Nut cookie', None, u'2017-02-21', u'Freezer', 0),\n",
       " (25, u'Nut cookie', None, u'2017-02-21', u'Freezer', 0),\n",
       " (26, u'Nut cookie', None, u'2017-02-21', u'Freezer', 0),\n",
       " (27, u'Nut cookie', None, u'2017-02-21', u'Freezer', 0),\n",
       " (28, u'Nut cookie', None, u'2017-02-21', u'Freezer', 0),\n",
       " (29, u'Amneris', None, u'2017-02-21', u'Freezer', 0),\n",
       " (30, u'Amneris', None, u'2017-01-22', u'Freezer', 0),\n",
       " (31, u'Amneris', None, u'2017-01-22', u'Freezer', 0),\n",
       " (32, u'Amneris', None, u'2017-01-22', u'Freezer', 0),\n",
       " (33, u'Amneris', None, u'2017-01-24', u'Freezer', 0),\n",
       " (34, u'Amneris', None, u'2017-01-21', u'Freezer', 0),\n",
       " (35, u'Amneris', None, u'2017-01-21', u'Freezer', 0),\n",
       " (36, u'Amneris', None, u'2017-01-21', u'Freezer', 0),\n",
       " (37, u'Tango', None, u'2016-12-21', u'Freezer', 0),\n",
       " (38, u'Tango', None, u'2017-02-21', u'Freezer', 0),\n",
       " (39, u'Tango', None, u'2017-02-21', u'Freezer', 0),\n",
       " (40, u'Tango', None, u'2017-02-21', u'Freezer', 0),\n",
       " (41, u'Tango', None, u'2017-02-21', u'Freezer', 0),\n",
       " (42, u'Berliner', None, u'2017-02-21', u'Freezer', 1),\n",
       " (43, u'Berliner', None, u'2017-02-21', u'Freezer', 1),\n",
       " (44, u'Berliner', None, u'2017-02-22', u'Delivered', 0),\n",
       " (45, u'Berliner', None, u'2017-02-23', u'Delivered', 0),\n",
       " (46, u'Berliner', None, u'2017-02-23', u'Freezer', 1),\n",
       " (48, u'Almond delight', None, u'2017-02-21', u'Freezer', 0),\n",
       " (49, u'Almond delight', None, u'2017-02-21', u'Freezer', 0),\n",
       " (50, u'Nut ring', None, u'2017-02-12', u'asdghkskajd', 0)]"
      ]
     },
     "execution_count": 63,
     "metadata": {},
     "output_type": "execute_result"
    }
   ],
   "source": [
    "%%sql\n",
    "-- Show all pallets --\n",
    "SELECT * \n",
    "FROM Pallet \n",
    "--WHERE order_id IS NULL AND is_blocked IS NOT 1 --uncomment for only unconnected pallets \n",
    "ORDER BY order_id DESC\n",
    "\n",
    "\n"
   ]
  },
  {
   "cell_type": "code",
   "execution_count": 17,
   "metadata": {
    "collapsed": false
   },
   "outputs": [
    {
     "name": "stdout",
     "output_type": "stream",
     "text": [
      "Done.\n"
     ]
    },
    {
     "data": {
      "text/plain": [
       "[]"
      ]
     },
     "execution_count": 17,
     "metadata": {},
     "output_type": "execute_result"
    }
   ],
   "source": [
    "%%sql\n",
    "-- Connect the oldest produced Berliner to Order id 101 (5 pallets of Berliner)--\n",
    "UPDATE Pallet\n",
    "set order_id = 103\n",
    "WHERE cookie_name = 'Berliner' AND order_id IS NULL AND is_blocked IS NOT 1\n",
    "order by production_date desc\n",
    "limit 1"
   ]
  },
  {
   "cell_type": "markdown",
   "metadata": {},
   "source": [
    "# Stuff - Pallets"
   ]
  },
  {
   "cell_type": "code",
   "execution_count": 71,
   "metadata": {
    "collapsed": false
   },
   "outputs": [
    {
     "name": "stdout",
     "output_type": "stream",
     "text": [
      "Done.\n"
     ]
    },
    {
     "data": {
      "text/html": [
       "<table>\n",
       "    <tr>\n",
       "        <th>pallet_id</th>\n",
       "        <th>cookie_name</th>\n",
       "        <th>order_id</th>\n",
       "        <th>production_date</th>\n",
       "        <th>location</th>\n",
       "        <th>is_blocked</th>\n",
       "    </tr>\n",
       "    <tr>\n",
       "        <td>42</td>\n",
       "        <td>Berliner</td>\n",
       "        <td>None</td>\n",
       "        <td>2017-02-21</td>\n",
       "        <td>Freezer</td>\n",
       "        <td>1</td>\n",
       "    </tr>\n",
       "    <tr>\n",
       "        <td>43</td>\n",
       "        <td>Berliner</td>\n",
       "        <td>None</td>\n",
       "        <td>2017-02-21</td>\n",
       "        <td>Freezer</td>\n",
       "        <td>1</td>\n",
       "    </tr>\n",
       "    <tr>\n",
       "        <td>44</td>\n",
       "        <td>Berliner</td>\n",
       "        <td>None</td>\n",
       "        <td>2017-02-22</td>\n",
       "        <td>Delivered</td>\n",
       "        <td>0</td>\n",
       "    </tr>\n",
       "    <tr>\n",
       "        <td>45</td>\n",
       "        <td>Berliner</td>\n",
       "        <td>None</td>\n",
       "        <td>2017-02-23</td>\n",
       "        <td>Delivered</td>\n",
       "        <td>0</td>\n",
       "    </tr>\n",
       "    <tr>\n",
       "        <td>46</td>\n",
       "        <td>Berliner</td>\n",
       "        <td>None</td>\n",
       "        <td>2017-02-23</td>\n",
       "        <td>Freezer</td>\n",
       "        <td>1</td>\n",
       "    </tr>\n",
       "</table>"
      ],
      "text/plain": [
       "[(42, u'Berliner', None, u'2017-02-21', u'Freezer', 1),\n",
       " (43, u'Berliner', None, u'2017-02-21', u'Freezer', 1),\n",
       " (44, u'Berliner', None, u'2017-02-22', u'Delivered', 0),\n",
       " (45, u'Berliner', None, u'2017-02-23', u'Delivered', 0),\n",
       " (46, u'Berliner', None, u'2017-02-23', u'Freezer', 1)]"
      ]
     },
     "execution_count": 71,
     "metadata": {},
     "output_type": "execute_result"
    }
   ],
   "source": [
    "%%sql\n",
    "-- A list of pallet by cookie type between two dates\n",
    "SELECT *\n",
    "FROM Pallet\n",
    "WHERE cookie_name = 'Berliner' AND\n",
    "production_date BETWEEN \"2017-01-01\" AND \"2017-02-23\""
   ]
  },
  {
   "cell_type": "code",
   "execution_count": 18,
   "metadata": {
    "collapsed": false
   },
   "outputs": [
    {
     "name": "stdout",
     "output_type": "stream",
     "text": [
      "Done.\n"
     ]
    },
    {
     "data": {
      "text/plain": [
       "[]"
      ]
     },
     "execution_count": 18,
     "metadata": {},
     "output_type": "execute_result"
    }
   ],
   "source": [
    "%%sql\n",
    "-- Create a pallet, connected to a unspecific order --\n",
    "INSERT INTO Pallet (cookie_name, order_id, production_date, location, is_blocked)\n",
    "VALUES ('Nut ring', NULL ,'2017-02-12', 'asdghkskajd', NULL);\n",
    "\n"
   ]
  },
  {
   "cell_type": "code",
   "execution_count": 58,
   "metadata": {
    "collapsed": false
   },
   "outputs": [
    {
     "name": "stdout",
     "output_type": "stream",
     "text": [
      "Done.\n"
     ]
    },
    {
     "data": {
      "text/html": [
       "<table>\n",
       "    <tr>\n",
       "        <th>pallet_id</th>\n",
       "        <th>cookie_name</th>\n",
       "        <th>order_id</th>\n",
       "        <th>production_date</th>\n",
       "        <th>location</th>\n",
       "        <th>is_blocked</th>\n",
       "    </tr>\n",
       "    <tr>\n",
       "        <td>42</td>\n",
       "        <td>Berliner</td>\n",
       "        <td>None</td>\n",
       "        <td>2017-02-21</td>\n",
       "        <td>Freezer</td>\n",
       "        <td>1</td>\n",
       "    </tr>\n",
       "    <tr>\n",
       "        <td>43</td>\n",
       "        <td>Berliner</td>\n",
       "        <td>None</td>\n",
       "        <td>2017-02-21</td>\n",
       "        <td>Freezer</td>\n",
       "        <td>1</td>\n",
       "    </tr>\n",
       "    <tr>\n",
       "        <td>44</td>\n",
       "        <td>Berliner</td>\n",
       "        <td>None</td>\n",
       "        <td>2017-02-22</td>\n",
       "        <td>Delivered</td>\n",
       "        <td>0</td>\n",
       "    </tr>\n",
       "    <tr>\n",
       "        <td>45</td>\n",
       "        <td>Berliner</td>\n",
       "        <td>None</td>\n",
       "        <td>2017-02-23</td>\n",
       "        <td>Delivered</td>\n",
       "        <td>0</td>\n",
       "    </tr>\n",
       "    <tr>\n",
       "        <td>46</td>\n",
       "        <td>Berliner</td>\n",
       "        <td>None</td>\n",
       "        <td>2017-02-23</td>\n",
       "        <td>Freezer</td>\n",
       "        <td>1</td>\n",
       "    </tr>\n",
       "    <tr>\n",
       "        <td>47</td>\n",
       "        <td>Berliner</td>\n",
       "        <td>103</td>\n",
       "        <td>2017-02-24</td>\n",
       "        <td>Freezer</td>\n",
       "        <td>1</td>\n",
       "    </tr>\n",
       "</table>"
      ],
      "text/plain": [
       "[(42, u'Berliner', None, u'2017-02-21', u'Freezer', 1),\n",
       " (43, u'Berliner', None, u'2017-02-21', u'Freezer', 1),\n",
       " (44, u'Berliner', None, u'2017-02-22', u'Delivered', 0),\n",
       " (45, u'Berliner', None, u'2017-02-23', u'Delivered', 0),\n",
       " (46, u'Berliner', None, u'2017-02-23', u'Freezer', 1),\n",
       " (47, u'Berliner', 103, u'2017-02-24', u'Freezer', 1)]"
      ]
     },
     "execution_count": 58,
     "metadata": {},
     "output_type": "execute_result"
    }
   ],
   "source": [
    "%%sql\n",
    "-- Show all entries of Berliner--\n",
    "SELECT * \n",
    "FROM Pallet\n",
    "WHERE cookie_name = 'Berliner'"
   ]
  },
  {
   "cell_type": "code",
   "execution_count": 48,
   "metadata": {
    "collapsed": false
   },
   "outputs": [
    {
     "name": "stdout",
     "output_type": "stream",
     "text": [
      "50 rows affected.\n"
     ]
    },
    {
     "data": {
      "text/plain": [
       "[]"
      ]
     },
     "execution_count": 48,
     "metadata": {},
     "output_type": "execute_result"
    }
   ],
   "source": [
    "%%sql\n",
    "-- Unlock all panels\n",
    "UPDATE Pallet\n",
    "set is_blocked = 0"
   ]
  },
  {
   "cell_type": "code",
   "execution_count": 53,
   "metadata": {
    "collapsed": false
   },
   "outputs": [
    {
     "name": "stdout",
     "output_type": "stream",
     "text": [
      "1 rows affected.\n"
     ]
    },
    {
     "data": {
      "text/plain": [
       "[]"
      ]
     },
     "execution_count": 53,
     "metadata": {},
     "output_type": "execute_result"
    }
   ],
   "source": [
    "%%sql\n",
    "-- set delivered\n",
    "UPDATE Pallet\n",
    "set location = 'Delivered'\n",
    "WHERE pallet_id = 45"
   ]
  },
  {
   "cell_type": "code",
   "execution_count": 64,
   "metadata": {
    "collapsed": false
   },
   "outputs": [
    {
     "name": "stdout",
     "output_type": "stream",
     "text": [
      "Done.\n"
     ]
    },
    {
     "data": {
      "text/html": [
       "<table>\n",
       "    <tr>\n",
       "        <th>COUNT(*)</th>\n",
       "    </tr>\n",
       "    <tr>\n",
       "        <td>2</td>\n",
       "    </tr>\n",
       "</table>"
      ],
      "text/plain": [
       "[(2,)]"
      ]
     },
     "execution_count": 64,
     "metadata": {},
     "output_type": "execute_result"
    }
   ],
   "source": [
    "%%sql\n",
    "-- Show number of Berliner that are unconnected that are not blocked--\n",
    "SELECT COUNT(*) \n",
    "FROM Pallet\n",
    "WHERE cookie_name = 'Berliner' AND order_id IS NULL AND is_blocked = 0"
   ]
  },
  {
   "cell_type": "code",
   "execution_count": 66,
   "metadata": {
    "collapsed": false
   },
   "outputs": [
    {
     "name": "stdout",
     "output_type": "stream",
     "text": [
      "Done.\n"
     ]
    },
    {
     "data": {
      "text/html": [
       "<table>\n",
       "    <tr>\n",
       "        <th>Val</th>\n",
       "    </tr>\n",
       "    <tr>\n",
       "        <td>2</td>\n",
       "    </tr>\n",
       "</table>"
      ],
      "text/plain": [
       "[(2,)]"
      ]
     },
     "execution_count": 66,
     "metadata": {},
     "output_type": "execute_result"
    }
   ],
   "source": [
    "%%sql\n",
    "-- Show number of Berliner left to produce for roder 103 --\n",
    "SELECT COUNT(*) - (SELECT COUNT(*) FROM Pallet WHERE order_id = 103 AND cookie_name = 'Berliner' AND is_blocked IS NOT 1) as Val\n",
    "FROM Pallet\n",
    "WHERE Pallet.cookie_name = 'Berliner' AND Pallet.order_id IS NULL AND is_blocked = 0\n",
    "\n"
   ]
  },
  {
   "cell_type": "markdown",
   "metadata": {},
   "source": [
    "# Uppdatera lagret med råvaror"
   ]
  },
  {
   "cell_type": "code",
   "execution_count": 28,
   "metadata": {
    "collapsed": false
   },
   "outputs": [
    {
     "name": "stdout",
     "output_type": "stream",
     "text": [
      "Done.\n"
     ]
    },
    {
     "data": {
      "text/html": [
       "<table>\n",
       "    <tr>\n",
       "        <th>ingredient_name</th>\n",
       "        <th>amount</th>\n",
       "        <th>unit</th>\n",
       "        <th>refill_date</th>\n",
       "    </tr>\n",
       "    <tr>\n",
       "        <td>Flour</td>\n",
       "        <td>500000.0</td>\n",
       "        <td>g</td>\n",
       "        <td>2017-03-20</td>\n",
       "    </tr>\n",
       "    <tr>\n",
       "        <td>Butter</td>\n",
       "        <td>486500.0</td>\n",
       "        <td>g</td>\n",
       "        <td>2017-03-20</td>\n",
       "    </tr>\n",
       "    <tr>\n",
       "        <td>Icing sugar</td>\n",
       "        <td>500000.0</td>\n",
       "        <td>g</td>\n",
       "        <td>2017-03-20</td>\n",
       "    </tr>\n",
       "    <tr>\n",
       "        <td>Roasted, chopped nuts</td>\n",
       "        <td>500000.0</td>\n",
       "        <td>g</td>\n",
       "        <td>2017-03-20</td>\n",
       "    </tr>\n",
       "    <tr>\n",
       "        <td>Fine-ground nuts</td>\n",
       "        <td>500000.0</td>\n",
       "        <td>g</td>\n",
       "        <td>2017-03-20</td>\n",
       "    </tr>\n",
       "    <tr>\n",
       "        <td>Ground, roasted nuts</td>\n",
       "        <td>500000.0</td>\n",
       "        <td>g</td>\n",
       "        <td>2017-03-20</td>\n",
       "    </tr>\n",
       "    <tr>\n",
       "        <td>Bread crumbs</td>\n",
       "        <td>500000.0</td>\n",
       "        <td>g</td>\n",
       "        <td>2017-03-20</td>\n",
       "    </tr>\n",
       "    <tr>\n",
       "        <td>Sugar</td>\n",
       "        <td>500000.0</td>\n",
       "        <td>g</td>\n",
       "        <td>2017-03-20</td>\n",
       "    </tr>\n",
       "    <tr>\n",
       "        <td>Egg whites</td>\n",
       "        <td>500000.0</td>\n",
       "        <td>dl</td>\n",
       "        <td>2017-03-20</td>\n",
       "    </tr>\n",
       "    <tr>\n",
       "        <td>Chocolate</td>\n",
       "        <td>497300.0</td>\n",
       "        <td>g</td>\n",
       "        <td>2017-03-20</td>\n",
       "    </tr>\n",
       "    <tr>\n",
       "        <td>Marzipan</td>\n",
       "        <td>500000.0</td>\n",
       "        <td>g</td>\n",
       "        <td>2017-03-20</td>\n",
       "    </tr>\n",
       "    <tr>\n",
       "        <td>Eggs</td>\n",
       "        <td>499730.0</td>\n",
       "        <td>g</td>\n",
       "        <td>2017-03-20</td>\n",
       "    </tr>\n",
       "    <tr>\n",
       "        <td>Potato starch</td>\n",
       "        <td>500000.0</td>\n",
       "        <td>g</td>\n",
       "        <td>2017-03-20</td>\n",
       "    </tr>\n",
       "    <tr>\n",
       "        <td>Wheat flour</td>\n",
       "        <td>500000.0</td>\n",
       "        <td>g</td>\n",
       "        <td>2017-03-20</td>\n",
       "    </tr>\n",
       "    <tr>\n",
       "        <td>Sodium bicarbonate</td>\n",
       "        <td>500000.0</td>\n",
       "        <td>g</td>\n",
       "        <td>2017-03-20</td>\n",
       "    </tr>\n",
       "    <tr>\n",
       "        <td>Vanilla</td>\n",
       "        <td>500000.0</td>\n",
       "        <td>g</td>\n",
       "        <td>2017-03-20</td>\n",
       "    </tr>\n",
       "    <tr>\n",
       "        <td>Chopped almonds</td>\n",
       "        <td>500000.0</td>\n",
       "        <td>g</td>\n",
       "        <td>2017-03-20</td>\n",
       "    </tr>\n",
       "    <tr>\n",
       "        <td>Cinnamon</td>\n",
       "        <td>500000.0</td>\n",
       "        <td>g</td>\n",
       "        <td>2017-03-20</td>\n",
       "    </tr>\n",
       "    <tr>\n",
       "        <td>Vanilla sugar</td>\n",
       "        <td>500000.0</td>\n",
       "        <td>g</td>\n",
       "        <td>2017-03-20</td>\n",
       "    </tr>\n",
       "</table>"
      ],
      "text/plain": [
       "[(u'Flour', 500000.0, u'g', u'2017-03-20'),\n",
       " (u'Butter', 486500.0, u'g', u'2017-03-20'),\n",
       " (u'Icing sugar', 500000.0, u'g', u'2017-03-20'),\n",
       " (u'Roasted, chopped nuts', 500000.0, u'g', u'2017-03-20'),\n",
       " (u'Fine-ground nuts', 500000.0, u'g', u'2017-03-20'),\n",
       " (u'Ground, roasted nuts', 500000.0, u'g', u'2017-03-20'),\n",
       " (u'Bread crumbs', 500000.0, u'g', u'2017-03-20'),\n",
       " (u'Sugar', 500000.0, u'g', u'2017-03-20'),\n",
       " (u'Egg whites', 500000.0, u'dl', u'2017-03-20'),\n",
       " (u'Chocolate', 497300.0, u'g', u'2017-03-20'),\n",
       " (u'Marzipan', 500000.0, u'g', u'2017-03-20'),\n",
       " (u'Eggs', 499730.0, u'g', u'2017-03-20'),\n",
       " (u'Potato starch', 500000.0, u'g', u'2017-03-20'),\n",
       " (u'Wheat flour', 500000.0, u'g', u'2017-03-20'),\n",
       " (u'Sodium bicarbonate', 500000.0, u'g', u'2017-03-20'),\n",
       " (u'Vanilla', 500000.0, u'g', u'2017-03-20'),\n",
       " (u'Chopped almonds', 500000.0, u'g', u'2017-03-20'),\n",
       " (u'Cinnamon', 500000.0, u'g', u'2017-03-20'),\n",
       " (u'Vanilla sugar', 500000.0, u'g', u'2017-03-20')]"
      ]
     },
     "execution_count": 28,
     "metadata": {},
     "output_type": "execute_result"
    }
   ],
   "source": [
    "%%sql\n",
    "SELECT * \n",
    "FROM Ingredient"
   ]
  },
  {
   "cell_type": "code",
   "execution_count": 129,
   "metadata": {
    "collapsed": false
   },
   "outputs": [
    {
     "name": "stdout",
     "output_type": "stream",
     "text": [
      "Done.\n"
     ]
    },
    {
     "data": {
      "text/plain": [
       "[]"
      ]
     },
     "execution_count": 129,
     "metadata": {},
     "output_type": "execute_result"
    }
   ],
   "source": [
    "%%sql\n",
    "-- Fill the database with values\n",
    "UPDATE Ingredient\n",
    "set amount = 500000, refill_date = \"2017-03-19\" --DATE()\n",
    "--WHERE ingredient_name = 'Butter'"
   ]
  },
  {
   "cell_type": "code",
   "execution_count": 26,
   "metadata": {
    "collapsed": false
   },
   "outputs": [
    {
     "name": "stdout",
     "output_type": "stream",
     "text": [
      "Done.\n"
     ]
    },
    {
     "data": {
      "text/html": [
       "<table>\n",
       "    <tr>\n",
       "        <th>ingredient_name</th>\n",
       "        <th>amount for pallet</th>\n",
       "    </tr>\n",
       "    <tr>\n",
       "        <td>Flour</td>\n",
       "        <td>18900.0</td>\n",
       "    </tr>\n",
       "    <tr>\n",
       "        <td>Butter</td>\n",
       "        <td>13500.0</td>\n",
       "    </tr>\n",
       "    <tr>\n",
       "        <td>Icing sugar</td>\n",
       "        <td>5400.0</td>\n",
       "    </tr>\n",
       "    <tr>\n",
       "        <td>Eggs</td>\n",
       "        <td>270.0</td>\n",
       "    </tr>\n",
       "    <tr>\n",
       "        <td>Vanilla sugar</td>\n",
       "        <td>270.0</td>\n",
       "    </tr>\n",
       "    <tr>\n",
       "        <td>Chocolate</td>\n",
       "        <td>2700.0</td>\n",
       "    </tr>\n",
       "</table>"
      ],
      "text/plain": [
       "[(u'Flour', 18900.0),\n",
       " (u'Butter', 13500.0),\n",
       " (u'Icing sugar', 5400.0),\n",
       " (u'Eggs', 270.0),\n",
       " (u'Vanilla sugar', 270.0),\n",
       " (u'Chocolate', 2700.0)]"
      ]
     },
     "execution_count": 26,
     "metadata": {},
     "output_type": "execute_result"
    }
   ],
   "source": [
    "%%sql\n",
    "-- Get ingredients needed for a cookie\n",
    "SELECT ingredient_name, amount*54 as 'amount for pallet'\n",
    "FROM RecipeItems\n",
    "Where cookie_name = 'Berliner'"
   ]
  },
  {
   "cell_type": "code",
   "execution_count": 108,
   "metadata": {
    "collapsed": false
   },
   "outputs": [
    {
     "name": "stdout",
     "output_type": "stream",
     "text": [
      "Done.\n"
     ]
    },
    {
     "data": {
      "text/plain": [
       "[]"
      ]
     },
     "execution_count": 108,
     "metadata": {},
     "output_type": "execute_result"
    }
   ],
   "source": [
    "%%sql\n",
    "-- Reduce the ingredient stock version 1\n",
    "-- TODO: replace 1 with 54*amount of a ingredient\n",
    "UPDATE Ingredient\n",
    "set amount = amount - 1\n",
    "WHERE ingredient_name = 'Butter' "
   ]
  },
  {
   "cell_type": "code",
   "execution_count": 67,
   "metadata": {
    "collapsed": false
   },
   "outputs": [
    {
     "name": "stdout",
     "output_type": "stream",
     "text": [
      "Done.\n"
     ]
    },
    {
     "data": {
      "text/plain": [
       "[]"
      ]
     },
     "execution_count": 67,
     "metadata": {},
     "output_type": "execute_result"
    }
   ],
   "source": [
    "%%sql\n",
    "-- Reduce ingredient stock version 2\n",
    "UPDATE Ingredient\n",
    "       set amount = CASE\n",
    "            WHEN ingredient_name = 'Butter' THEN amount - 54*(SELECT amount from RecipeItems WHERE cookie_name = 'Berliner' AND ingredient_name = 'Butter')\n",
    "            WHEN ingredient_name = 'Eggs' THEN amount - 54*(SELECT amount from RecipeItems WHERE cookie_name = 'Berliner' AND ingredient_name = 'Eggs')\n",
    "            WHEN ingredient_name = 'Chocolate' THEN amount - 54*(SELECT amount from RecipeItems WHERE cookie_name = 'Berliner' AND ingredient_name = 'Chocolate')\n",
    "            ELSE amount END"
   ]
  },
  {
   "cell_type": "markdown",
   "metadata": {},
   "source": [
    "# Oh no, the cookie Berliner is infected by a terrible worm! Ach nein!"
   ]
  },
  {
   "cell_type": "code",
   "execution_count": 57,
   "metadata": {
    "collapsed": false
   },
   "outputs": [
    {
     "name": "stdout",
     "output_type": "stream",
     "text": [
      "Done.\n"
     ]
    },
    {
     "data": {
      "text/plain": [
       "[]"
      ]
     },
     "execution_count": 57,
     "metadata": {},
     "output_type": "execute_result"
    }
   ],
   "source": [
    "%%sql\n",
    "-- Block all pallets between two dates\n",
    "UPDATE Pallet\n",
    "    set is_blocked = CASE WHEN cookie_name = 'Berliner' AND location IS NOT 'Delivered' AND production_date BETWEEN \"2016-01-01\" AND \"2018-01-01\"  THEN 1\n",
    "    ELSE is_blocked END\n"
   ]
  },
  {
   "cell_type": "markdown",
   "metadata": {},
   "source": [
    "# Loading Order\n",
    "Customer 1 name, adress, # of pallets of cookie a, # pallets of cookie b"
   ]
  },
  {
   "cell_type": "code",
   "execution_count": null,
   "metadata": {
    "collapsed": true
   },
   "outputs": [],
   "source": []
  },
  {
   "cell_type": "markdown",
   "metadata": {},
   "source": [
    "# Listor att exportera"
   ]
  },
  {
   "cell_type": "code",
   "execution_count": 74,
   "metadata": {
    "collapsed": false
   },
   "outputs": [
    {
     "name": "stdout",
     "output_type": "stream",
     "text": [
      "Done.\n"
     ]
    },
    {
     "data": {
      "text/html": [
       "<table>\n",
       "    <tr>\n",
       "        <th>pallet_id</th>\n",
       "        <th>cookie_name</th>\n",
       "        <th>order_id</th>\n",
       "        <th>production_date</th>\n",
       "        <th>location</th>\n",
       "        <th>is_blocked</th>\n",
       "    </tr>\n",
       "    <tr>\n",
       "        <td>2</td>\n",
       "        <td>Nut ring</td>\n",
       "        <td>None</td>\n",
       "        <td>2017-01-22</td>\n",
       "        <td>Freezer</td>\n",
       "        <td>0</td>\n",
       "    </tr>\n",
       "    <tr>\n",
       "        <td>3</td>\n",
       "        <td>Nut ring</td>\n",
       "        <td>None</td>\n",
       "        <td>2017-01-22</td>\n",
       "        <td>Freezer</td>\n",
       "        <td>0</td>\n",
       "    </tr>\n",
       "    <tr>\n",
       "        <td>4</td>\n",
       "        <td>Nut ring</td>\n",
       "        <td>None</td>\n",
       "        <td>2017-01-22</td>\n",
       "        <td>Freezer</td>\n",
       "        <td>0</td>\n",
       "    </tr>\n",
       "    <tr>\n",
       "        <td>5</td>\n",
       "        <td>Nut ring</td>\n",
       "        <td>None</td>\n",
       "        <td>2017-01-24</td>\n",
       "        <td>Freezer</td>\n",
       "        <td>0</td>\n",
       "    </tr>\n",
       "    <tr>\n",
       "        <td>6</td>\n",
       "        <td>Nut ring</td>\n",
       "        <td>None</td>\n",
       "        <td>2017-01-21</td>\n",
       "        <td>Freezer</td>\n",
       "        <td>0</td>\n",
       "    </tr>\n",
       "    <tr>\n",
       "        <td>7</td>\n",
       "        <td>Nut ring</td>\n",
       "        <td>None</td>\n",
       "        <td>2017-01-21</td>\n",
       "        <td>Freezer</td>\n",
       "        <td>0</td>\n",
       "    </tr>\n",
       "    <tr>\n",
       "        <td>8</td>\n",
       "        <td>Nut ring</td>\n",
       "        <td>None</td>\n",
       "        <td>2017-01-21</td>\n",
       "        <td>Freezer</td>\n",
       "        <td>0</td>\n",
       "    </tr>\n",
       "    <tr>\n",
       "        <td>9</td>\n",
       "        <td>Nut ring</td>\n",
       "        <td>None</td>\n",
       "        <td>2016-12-21</td>\n",
       "        <td>Freezer</td>\n",
       "        <td>0</td>\n",
       "    </tr>\n",
       "    <tr>\n",
       "        <td>10</td>\n",
       "        <td>Nut ring</td>\n",
       "        <td>None</td>\n",
       "        <td>2017-02-21</td>\n",
       "        <td>Freezer</td>\n",
       "        <td>0</td>\n",
       "    </tr>\n",
       "    <tr>\n",
       "        <td>11</td>\n",
       "        <td>Nut ring</td>\n",
       "        <td>None</td>\n",
       "        <td>2017-02-21</td>\n",
       "        <td>Freezer</td>\n",
       "        <td>0</td>\n",
       "    </tr>\n",
       "    <tr>\n",
       "        <td>12</td>\n",
       "        <td>Nut ring</td>\n",
       "        <td>None</td>\n",
       "        <td>2017-02-21</td>\n",
       "        <td>Freezer</td>\n",
       "        <td>0</td>\n",
       "    </tr>\n",
       "    <tr>\n",
       "        <td>13</td>\n",
       "        <td>Nut ring</td>\n",
       "        <td>None</td>\n",
       "        <td>2017-02-21</td>\n",
       "        <td>Freezer</td>\n",
       "        <td>0</td>\n",
       "    </tr>\n",
       "    <tr>\n",
       "        <td>14</td>\n",
       "        <td>Nut ring</td>\n",
       "        <td>None</td>\n",
       "        <td>2017-02-21</td>\n",
       "        <td>Freezer</td>\n",
       "        <td>0</td>\n",
       "    </tr>\n",
       "    <tr>\n",
       "        <td>15</td>\n",
       "        <td>Nut ring</td>\n",
       "        <td>None</td>\n",
       "        <td>2017-02-21</td>\n",
       "        <td>Freezer</td>\n",
       "        <td>0</td>\n",
       "    </tr>\n",
       "    <tr>\n",
       "        <td>16</td>\n",
       "        <td>Nut ring</td>\n",
       "        <td>None</td>\n",
       "        <td>2017-01-22</td>\n",
       "        <td>Freezer</td>\n",
       "        <td>0</td>\n",
       "    </tr>\n",
       "    <tr>\n",
       "        <td>17</td>\n",
       "        <td>Nut cookie</td>\n",
       "        <td>None</td>\n",
       "        <td>2017-01-22</td>\n",
       "        <td>Freezer</td>\n",
       "        <td>0</td>\n",
       "    </tr>\n",
       "    <tr>\n",
       "        <td>18</td>\n",
       "        <td>Nut cookie</td>\n",
       "        <td>None</td>\n",
       "        <td>2017-01-22</td>\n",
       "        <td>Freezer</td>\n",
       "        <td>0</td>\n",
       "    </tr>\n",
       "    <tr>\n",
       "        <td>19</td>\n",
       "        <td>Nut cookie</td>\n",
       "        <td>None</td>\n",
       "        <td>2017-01-24</td>\n",
       "        <td>Freezer</td>\n",
       "        <td>0</td>\n",
       "    </tr>\n",
       "    <tr>\n",
       "        <td>20</td>\n",
       "        <td>Nut cookie</td>\n",
       "        <td>None</td>\n",
       "        <td>2017-01-21</td>\n",
       "        <td>Freezer</td>\n",
       "        <td>0</td>\n",
       "    </tr>\n",
       "    <tr>\n",
       "        <td>21</td>\n",
       "        <td>Nut cookie</td>\n",
       "        <td>None</td>\n",
       "        <td>2017-01-21</td>\n",
       "        <td>Freezer</td>\n",
       "        <td>0</td>\n",
       "    </tr>\n",
       "    <tr>\n",
       "        <td>22</td>\n",
       "        <td>Nut cookie</td>\n",
       "        <td>None</td>\n",
       "        <td>2017-01-21</td>\n",
       "        <td>Freezer</td>\n",
       "        <td>0</td>\n",
       "    </tr>\n",
       "    <tr>\n",
       "        <td>23</td>\n",
       "        <td>Nut cookie</td>\n",
       "        <td>None</td>\n",
       "        <td>2016-12-21</td>\n",
       "        <td>Freezer</td>\n",
       "        <td>0</td>\n",
       "    </tr>\n",
       "    <tr>\n",
       "        <td>24</td>\n",
       "        <td>Nut cookie</td>\n",
       "        <td>None</td>\n",
       "        <td>2017-02-21</td>\n",
       "        <td>Freezer</td>\n",
       "        <td>0</td>\n",
       "    </tr>\n",
       "    <tr>\n",
       "        <td>25</td>\n",
       "        <td>Nut cookie</td>\n",
       "        <td>None</td>\n",
       "        <td>2017-02-21</td>\n",
       "        <td>Freezer</td>\n",
       "        <td>0</td>\n",
       "    </tr>\n",
       "    <tr>\n",
       "        <td>26</td>\n",
       "        <td>Nut cookie</td>\n",
       "        <td>None</td>\n",
       "        <td>2017-02-21</td>\n",
       "        <td>Freezer</td>\n",
       "        <td>0</td>\n",
       "    </tr>\n",
       "    <tr>\n",
       "        <td>27</td>\n",
       "        <td>Nut cookie</td>\n",
       "        <td>None</td>\n",
       "        <td>2017-02-21</td>\n",
       "        <td>Freezer</td>\n",
       "        <td>0</td>\n",
       "    </tr>\n",
       "    <tr>\n",
       "        <td>28</td>\n",
       "        <td>Nut cookie</td>\n",
       "        <td>None</td>\n",
       "        <td>2017-02-21</td>\n",
       "        <td>Freezer</td>\n",
       "        <td>0</td>\n",
       "    </tr>\n",
       "    <tr>\n",
       "        <td>29</td>\n",
       "        <td>Amneris</td>\n",
       "        <td>None</td>\n",
       "        <td>2017-02-21</td>\n",
       "        <td>Freezer</td>\n",
       "        <td>0</td>\n",
       "    </tr>\n",
       "    <tr>\n",
       "        <td>30</td>\n",
       "        <td>Amneris</td>\n",
       "        <td>None</td>\n",
       "        <td>2017-01-22</td>\n",
       "        <td>Freezer</td>\n",
       "        <td>0</td>\n",
       "    </tr>\n",
       "    <tr>\n",
       "        <td>31</td>\n",
       "        <td>Amneris</td>\n",
       "        <td>None</td>\n",
       "        <td>2017-01-22</td>\n",
       "        <td>Freezer</td>\n",
       "        <td>0</td>\n",
       "    </tr>\n",
       "    <tr>\n",
       "        <td>32</td>\n",
       "        <td>Amneris</td>\n",
       "        <td>None</td>\n",
       "        <td>2017-01-22</td>\n",
       "        <td>Freezer</td>\n",
       "        <td>0</td>\n",
       "    </tr>\n",
       "    <tr>\n",
       "        <td>33</td>\n",
       "        <td>Amneris</td>\n",
       "        <td>None</td>\n",
       "        <td>2017-01-24</td>\n",
       "        <td>Freezer</td>\n",
       "        <td>0</td>\n",
       "    </tr>\n",
       "    <tr>\n",
       "        <td>34</td>\n",
       "        <td>Amneris</td>\n",
       "        <td>None</td>\n",
       "        <td>2017-01-21</td>\n",
       "        <td>Freezer</td>\n",
       "        <td>0</td>\n",
       "    </tr>\n",
       "    <tr>\n",
       "        <td>35</td>\n",
       "        <td>Amneris</td>\n",
       "        <td>None</td>\n",
       "        <td>2017-01-21</td>\n",
       "        <td>Freezer</td>\n",
       "        <td>0</td>\n",
       "    </tr>\n",
       "    <tr>\n",
       "        <td>36</td>\n",
       "        <td>Amneris</td>\n",
       "        <td>None</td>\n",
       "        <td>2017-01-21</td>\n",
       "        <td>Freezer</td>\n",
       "        <td>0</td>\n",
       "    </tr>\n",
       "    <tr>\n",
       "        <td>37</td>\n",
       "        <td>Tango</td>\n",
       "        <td>None</td>\n",
       "        <td>2016-12-21</td>\n",
       "        <td>Freezer</td>\n",
       "        <td>0</td>\n",
       "    </tr>\n",
       "    <tr>\n",
       "        <td>38</td>\n",
       "        <td>Tango</td>\n",
       "        <td>None</td>\n",
       "        <td>2017-02-21</td>\n",
       "        <td>Freezer</td>\n",
       "        <td>0</td>\n",
       "    </tr>\n",
       "    <tr>\n",
       "        <td>39</td>\n",
       "        <td>Tango</td>\n",
       "        <td>None</td>\n",
       "        <td>2017-02-21</td>\n",
       "        <td>Freezer</td>\n",
       "        <td>0</td>\n",
       "    </tr>\n",
       "    <tr>\n",
       "        <td>40</td>\n",
       "        <td>Tango</td>\n",
       "        <td>None</td>\n",
       "        <td>2017-02-21</td>\n",
       "        <td>Freezer</td>\n",
       "        <td>0</td>\n",
       "    </tr>\n",
       "    <tr>\n",
       "        <td>41</td>\n",
       "        <td>Tango</td>\n",
       "        <td>None</td>\n",
       "        <td>2017-02-21</td>\n",
       "        <td>Freezer</td>\n",
       "        <td>0</td>\n",
       "    </tr>\n",
       "    <tr>\n",
       "        <td>42</td>\n",
       "        <td>Berliner</td>\n",
       "        <td>None</td>\n",
       "        <td>2017-02-21</td>\n",
       "        <td>Freezer</td>\n",
       "        <td>1</td>\n",
       "    </tr>\n",
       "    <tr>\n",
       "        <td>43</td>\n",
       "        <td>Berliner</td>\n",
       "        <td>None</td>\n",
       "        <td>2017-02-21</td>\n",
       "        <td>Freezer</td>\n",
       "        <td>1</td>\n",
       "    </tr>\n",
       "    <tr>\n",
       "        <td>44</td>\n",
       "        <td>Berliner</td>\n",
       "        <td>None</td>\n",
       "        <td>2017-02-22</td>\n",
       "        <td>Delivered</td>\n",
       "        <td>0</td>\n",
       "    </tr>\n",
       "    <tr>\n",
       "        <td>45</td>\n",
       "        <td>Berliner</td>\n",
       "        <td>None</td>\n",
       "        <td>2017-02-23</td>\n",
       "        <td>Delivered</td>\n",
       "        <td>0</td>\n",
       "    </tr>\n",
       "    <tr>\n",
       "        <td>46</td>\n",
       "        <td>Berliner</td>\n",
       "        <td>None</td>\n",
       "        <td>2017-02-23</td>\n",
       "        <td>Freezer</td>\n",
       "        <td>1</td>\n",
       "    </tr>\n",
       "    <tr>\n",
       "        <td>48</td>\n",
       "        <td>Almond delight</td>\n",
       "        <td>None</td>\n",
       "        <td>2017-02-21</td>\n",
       "        <td>Freezer</td>\n",
       "        <td>0</td>\n",
       "    </tr>\n",
       "    <tr>\n",
       "        <td>49</td>\n",
       "        <td>Almond delight</td>\n",
       "        <td>None</td>\n",
       "        <td>2017-02-21</td>\n",
       "        <td>Freezer</td>\n",
       "        <td>0</td>\n",
       "    </tr>\n",
       "    <tr>\n",
       "        <td>50</td>\n",
       "        <td>Nut ring</td>\n",
       "        <td>None</td>\n",
       "        <td>2017-02-12</td>\n",
       "        <td>asdghkskajd</td>\n",
       "        <td>0</td>\n",
       "    </tr>\n",
       "</table>"
      ],
      "text/plain": [
       "[(2, u'Nut ring', None, u'2017-01-22', u'Freezer', 0),\n",
       " (3, u'Nut ring', None, u'2017-01-22', u'Freezer', 0),\n",
       " (4, u'Nut ring', None, u'2017-01-22', u'Freezer', 0),\n",
       " (5, u'Nut ring', None, u'2017-01-24', u'Freezer', 0),\n",
       " (6, u'Nut ring', None, u'2017-01-21', u'Freezer', 0),\n",
       " (7, u'Nut ring', None, u'2017-01-21', u'Freezer', 0),\n",
       " (8, u'Nut ring', None, u'2017-01-21', u'Freezer', 0),\n",
       " (9, u'Nut ring', None, u'2016-12-21', u'Freezer', 0),\n",
       " (10, u'Nut ring', None, u'2017-02-21', u'Freezer', 0),\n",
       " (11, u'Nut ring', None, u'2017-02-21', u'Freezer', 0),\n",
       " (12, u'Nut ring', None, u'2017-02-21', u'Freezer', 0),\n",
       " (13, u'Nut ring', None, u'2017-02-21', u'Freezer', 0),\n",
       " (14, u'Nut ring', None, u'2017-02-21', u'Freezer', 0),\n",
       " (15, u'Nut ring', None, u'2017-02-21', u'Freezer', 0),\n",
       " (16, u'Nut ring', None, u'2017-01-22', u'Freezer', 0),\n",
       " (17, u'Nut cookie', None, u'2017-01-22', u'Freezer', 0),\n",
       " (18, u'Nut cookie', None, u'2017-01-22', u'Freezer', 0),\n",
       " (19, u'Nut cookie', None, u'2017-01-24', u'Freezer', 0),\n",
       " (20, u'Nut cookie', None, u'2017-01-21', u'Freezer', 0),\n",
       " (21, u'Nut cookie', None, u'2017-01-21', u'Freezer', 0),\n",
       " (22, u'Nut cookie', None, u'2017-01-21', u'Freezer', 0),\n",
       " (23, u'Nut cookie', None, u'2016-12-21', u'Freezer', 0),\n",
       " (24, u'Nut cookie', None, u'2017-02-21', u'Freezer', 0),\n",
       " (25, u'Nut cookie', None, u'2017-02-21', u'Freezer', 0),\n",
       " (26, u'Nut cookie', None, u'2017-02-21', u'Freezer', 0),\n",
       " (27, u'Nut cookie', None, u'2017-02-21', u'Freezer', 0),\n",
       " (28, u'Nut cookie', None, u'2017-02-21', u'Freezer', 0),\n",
       " (29, u'Amneris', None, u'2017-02-21', u'Freezer', 0),\n",
       " (30, u'Amneris', None, u'2017-01-22', u'Freezer', 0),\n",
       " (31, u'Amneris', None, u'2017-01-22', u'Freezer', 0),\n",
       " (32, u'Amneris', None, u'2017-01-22', u'Freezer', 0),\n",
       " (33, u'Amneris', None, u'2017-01-24', u'Freezer', 0),\n",
       " (34, u'Amneris', None, u'2017-01-21', u'Freezer', 0),\n",
       " (35, u'Amneris', None, u'2017-01-21', u'Freezer', 0),\n",
       " (36, u'Amneris', None, u'2017-01-21', u'Freezer', 0),\n",
       " (37, u'Tango', None, u'2016-12-21', u'Freezer', 0),\n",
       " (38, u'Tango', None, u'2017-02-21', u'Freezer', 0),\n",
       " (39, u'Tango', None, u'2017-02-21', u'Freezer', 0),\n",
       " (40, u'Tango', None, u'2017-02-21', u'Freezer', 0),\n",
       " (41, u'Tango', None, u'2017-02-21', u'Freezer', 0),\n",
       " (42, u'Berliner', None, u'2017-02-21', u'Freezer', 1),\n",
       " (43, u'Berliner', None, u'2017-02-21', u'Freezer', 1),\n",
       " (44, u'Berliner', None, u'2017-02-22', u'Delivered', 0),\n",
       " (45, u'Berliner', None, u'2017-02-23', u'Delivered', 0),\n",
       " (46, u'Berliner', None, u'2017-02-23', u'Freezer', 1),\n",
       " (48, u'Almond delight', None, u'2017-02-21', u'Freezer', 0),\n",
       " (49, u'Almond delight', None, u'2017-02-21', u'Freezer', 0),\n",
       " (50, u'Nut ring', None, u'2017-02-12', u'asdghkskajd', 0)]"
      ]
     },
     "execution_count": 74,
     "metadata": {},
     "output_type": "execute_result"
    }
   ],
   "source": [
    "%%sql\n",
    "-- Pallar producerade mellan två datum\n",
    "SELECT * \n",
    "FROM PALLET\n",
    "WHERE production_date BETWEEN \"2016-01-01\" AND \"2017-02-23\""
   ]
  }
 ],
 "metadata": {
  "kernelspec": {
   "display_name": "Python 2",
   "language": "python",
   "name": "python2"
  },
  "language_info": {
   "codemirror_mode": {
    "name": "ipython",
    "version": 2
   },
   "file_extension": ".py",
   "mimetype": "text/x-python",
   "name": "python",
   "nbconvert_exporter": "python",
   "pygments_lexer": "ipython2",
   "version": "2.7.12"
  }
 },
 "nbformat": 4,
 "nbformat_minor": 2
}
