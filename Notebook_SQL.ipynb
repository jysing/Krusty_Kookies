{
 "cells": [
  {
   "cell_type": "markdown",
   "metadata": {},
   "source": [
    "# EDA216 - Projekt\n",
    "\n",
    "\n",
    "## Preparation\n",
    "\n",
    "Load the Jupyter SQL extension, create a new empty database and load database by evaluating the next cells:"
   ]
  },
  {
   "cell_type": "code",
   "execution_count": 1,
   "metadata": {
    "collapsed": false
   },
   "outputs": [],
   "source": [
    "%load_ext sql"
   ]
  },
  {
   "cell_type": "markdown",
   "metadata": {},
   "source": [
    "Ladda in och skapa en test-databas med påhittade värden"
   ]
  },
  {
   "cell_type": "code",
   "execution_count": 2,
   "metadata": {
    "collapsed": false
   },
   "outputs": [],
   "source": [
    "%%bash\n",
    "sqlite3 src/notebook.db < src/cookie.sql\n"
   ]
  },
  {
   "cell_type": "code",
   "execution_count": 3,
   "metadata": {
    "collapsed": false
   },
   "outputs": [],
   "source": [
    "%%bash\n",
    "sqlite3 src/notebook.db < src/orders.sql"
   ]
  },
  {
   "cell_type": "code",
   "execution_count": 4,
   "metadata": {
    "collapsed": false
   },
   "outputs": [],
   "source": [
    "%%bash\n",
    "sqlite3 src/notebook.db < src/pallets.sql\n"
   ]
  },
  {
   "cell_type": "code",
   "execution_count": 5,
   "metadata": {
    "collapsed": false
   },
   "outputs": [],
   "source": [
    "%%bash\n",
    "sqlite3 src/notebook.db < src/ingredients.sql"
   ]
  },
  {
   "cell_type": "code",
   "execution_count": 6,
   "metadata": {
    "collapsed": false
   },
   "outputs": [
    {
     "data": {
      "text/plain": [
       "'Connected: None@src/notebook.db'"
      ]
     },
     "execution_count": 6,
     "metadata": {},
     "output_type": "execute_result"
    }
   ],
   "source": [
    "%sql sqlite:///src/notebook.db"
   ]
  },
  {
   "cell_type": "code",
   "execution_count": 7,
   "metadata": {
    "collapsed": false
   },
   "outputs": [
    {
     "name": "stdout",
     "output_type": "stream",
     "text": [
      "Done.\n"
     ]
    },
    {
     "data": {
      "text/plain": [
       "[]"
      ]
     },
     "execution_count": 7,
     "metadata": {},
     "output_type": "execute_result"
    }
   ],
   "source": [
    "%sql PRAGMA foreign_keys=ON;"
   ]
  },
  {
   "cell_type": "markdown",
   "metadata": {},
   "source": [
    "Raderar databasen. Använd ej"
   ]
  },
  {
   "cell_type": "code",
   "execution_count": 8,
   "metadata": {
    "collapsed": false
   },
   "outputs": [
    {
     "name": "stderr",
     "output_type": "stream",
     "text": [
      "rm: cannot remove 'src/notebook.db': Device or resource busy\n"
     ]
    }
   ],
   "source": [
    "%%bash\n",
    "rm -f src/notebook.db"
   ]
  },
  {
   "cell_type": "markdown",
   "metadata": {},
   "source": [
    "# Sql commands - Simple"
   ]
  },
  {
   "cell_type": "code",
   "execution_count": 9,
   "metadata": {
    "collapsed": false
   },
   "outputs": [
    {
     "name": "stdout",
     "output_type": "stream",
     "text": [
      "Done.\n"
     ]
    },
    {
     "data": {
      "text/html": [
       "<table>\n",
       "    <tr>\n",
       "        <th>customer_name</th>\n",
       "        <th>address</th>\n",
       "        <th>country</th>\n",
       "    </tr>\n",
       "    <tr>\n",
       "        <td>Finkakor AB</td>\n",
       "        <td>Helsingborg</td>\n",
       "        <td>Sweden</td>\n",
       "    </tr>\n",
       "    <tr>\n",
       "        <td>Småbröd AB</td>\n",
       "        <td>Malmö</td>\n",
       "        <td>Sweden</td>\n",
       "    </tr>\n",
       "    <tr>\n",
       "        <td>Kaffebröd AB</td>\n",
       "        <td>Landskrona</td>\n",
       "        <td>Sweden</td>\n",
       "    </tr>\n",
       "    <tr>\n",
       "        <td>Bjudkakor AB</td>\n",
       "        <td>Ystad</td>\n",
       "        <td>Sweden</td>\n",
       "    </tr>\n",
       "    <tr>\n",
       "        <td>Kalaskakor AB</td>\n",
       "        <td>Trelleborg</td>\n",
       "        <td>Sweden</td>\n",
       "    </tr>\n",
       "    <tr>\n",
       "        <td>Partykakor AB</td>\n",
       "        <td>Kristianstad</td>\n",
       "        <td>Sweden</td>\n",
       "    </tr>\n",
       "    <tr>\n",
       "        <td>Skånekakor AB</td>\n",
       "        <td>Perstorp</td>\n",
       "        <td>Sweden</td>\n",
       "    </tr>\n",
       "</table>"
      ],
      "text/plain": [
       "[('Finkakor AB', 'Helsingborg', 'Sweden'),\n",
       " ('Småbröd AB', 'Malmö', 'Sweden'),\n",
       " ('Kaffebröd AB', 'Landskrona', 'Sweden'),\n",
       " ('Bjudkakor AB', 'Ystad', 'Sweden'),\n",
       " ('Kalaskakor AB', 'Trelleborg', 'Sweden'),\n",
       " ('Partykakor AB', 'Kristianstad', 'Sweden'),\n",
       " ('Skånekakor AB', 'Perstorp', 'Sweden')]"
      ]
     },
     "execution_count": 9,
     "metadata": {},
     "output_type": "execute_result"
    }
   ],
   "source": [
    "%%sql\n",
    "-- See all customers --\n",
    "SELECT * \n",
    "FROM Customer"
   ]
  },
  {
   "cell_type": "code",
   "execution_count": 10,
   "metadata": {
    "collapsed": false,
    "scrolled": true
   },
   "outputs": [
    {
     "name": "stdout",
     "output_type": "stream",
     "text": [
      "Done.\n"
     ]
    },
    {
     "data": {
      "text/html": [
       "<table>\n",
       "    <tr>\n",
       "        <th>cookie_name</th>\n",
       "    </tr>\n",
       "    <tr>\n",
       "        <td>Nut ring</td>\n",
       "    </tr>\n",
       "    <tr>\n",
       "        <td>Nut cookie</td>\n",
       "    </tr>\n",
       "    <tr>\n",
       "        <td>Amneris</td>\n",
       "    </tr>\n",
       "    <tr>\n",
       "        <td>Tango</td>\n",
       "    </tr>\n",
       "    <tr>\n",
       "        <td>Almond delight</td>\n",
       "    </tr>\n",
       "    <tr>\n",
       "        <td>Berliner</td>\n",
       "    </tr>\n",
       "</table>"
      ],
      "text/plain": [
       "[('Nut ring',),\n",
       " ('Nut cookie',),\n",
       " ('Amneris',),\n",
       " ('Tango',),\n",
       " ('Almond delight',),\n",
       " ('Berliner',)]"
      ]
     },
     "execution_count": 10,
     "metadata": {},
     "output_type": "execute_result"
    }
   ],
   "source": [
    "%%sql\n",
    "-- See all cookies --\n",
    "SELECT *\n",
    "FROM Cookie"
   ]
  },
  {
   "cell_type": "code",
   "execution_count": 11,
   "metadata": {
    "collapsed": false
   },
   "outputs": [
    {
     "name": "stdout",
     "output_type": "stream",
     "text": [
      "Done.\n"
     ]
    },
    {
     "data": {
      "text/html": [
       "<table>\n",
       "    <tr>\n",
       "        <th>order_id</th>\n",
       "        <th>customer_name</th>\n",
       "        <th>delivery_date</th>\n",
       "    </tr>\n",
       "    <tr>\n",
       "        <td>100</td>\n",
       "        <td>Kalaskakor AB</td>\n",
       "        <td>2017-04-22</td>\n",
       "    </tr>\n",
       "    <tr>\n",
       "        <td>101</td>\n",
       "        <td>Bjudkakor AB</td>\n",
       "        <td>2017-05-24</td>\n",
       "    </tr>\n",
       "    <tr>\n",
       "        <td>102</td>\n",
       "        <td>Bjudkakor AB</td>\n",
       "        <td>2017-04-24</td>\n",
       "    </tr>\n",
       "    <tr>\n",
       "        <td>103</td>\n",
       "        <td>Kalaskakor AB</td>\n",
       "        <td>2017-03-30</td>\n",
       "    </tr>\n",
       "    <tr>\n",
       "        <td>104</td>\n",
       "        <td>Bjudkakor AB</td>\n",
       "        <td>2017-04-01</td>\n",
       "    </tr>\n",
       "    <tr>\n",
       "        <td>105</td>\n",
       "        <td>Partykakor AB</td>\n",
       "        <td>2017-04-24</td>\n",
       "    </tr>\n",
       "</table>"
      ],
      "text/plain": [
       "[(100, 'Kalaskakor AB', '2017-04-22'),\n",
       " (101, 'Bjudkakor AB', '2017-05-24'),\n",
       " (102, 'Bjudkakor AB', '2017-04-24'),\n",
       " (103, 'Kalaskakor AB', '2017-03-30'),\n",
       " (104, 'Bjudkakor AB', '2017-04-01'),\n",
       " (105, 'Partykakor AB', '2017-04-24')]"
      ]
     },
     "execution_count": 11,
     "metadata": {},
     "output_type": "execute_result"
    }
   ],
   "source": [
    "%%sql\n",
    "-- See all orders --\n",
    "SELEcT *\n",
    "FROM Order_Bill"
   ]
  },
  {
   "cell_type": "markdown",
   "metadata": {},
   "source": [
    "# FOR CONNECTING PALLETS TO AN ORDER"
   ]
  },
  {
   "cell_type": "code",
   "execution_count": 12,
   "metadata": {
    "collapsed": false
   },
   "outputs": [
    {
     "name": "stdout",
     "output_type": "stream",
     "text": [
      "1 rows affected.\n"
     ]
    },
    {
     "data": {
      "text/plain": [
       "[]"
      ]
     },
     "execution_count": 12,
     "metadata": {},
     "output_type": "execute_result"
    }
   ],
   "source": [
    "%%sql\n",
    "-- Adding a new order --\n",
    "INSERT INTO Order_Bill (order_id, /* Order_id must be omitted later */ customer_name, delivery_date)\n",
    "VALUES (1001, /* 1001  must be omitted later */ \"Partykakor AB\", \"2017-08-12\");\n"
   ]
  },
  {
   "cell_type": "code",
   "execution_count": 13,
   "metadata": {
    "collapsed": false
   },
   "outputs": [
    {
     "name": "stdout",
     "output_type": "stream",
     "text": [
      "2 rows affected.\n"
     ]
    },
    {
     "data": {
      "text/plain": [
       "[]"
      ]
     },
     "execution_count": 13,
     "metadata": {},
     "output_type": "execute_result"
    }
   ],
   "source": [
    "%%sql\n",
    "INSERT INTO OrderItems (order_id, cookie_name, nbrPallet)\n",
    "VALUES (1001, /* Must be omitted later */ \"Berliner\", 8),\n",
    "(1001, /* Must be omitted later */ \"Nut ring\", 4);"
   ]
  },
  {
   "cell_type": "code",
   "execution_count": 14,
   "metadata": {
    "collapsed": false
   },
   "outputs": [
    {
     "name": "stdout",
     "output_type": "stream",
     "text": [
      "Done.\n"
     ]
    },
    {
     "data": {
      "text/html": [
       "<table>\n",
       "    <tr>\n",
       "        <th>cookie_name</th>\n",
       "        <th>nbrPallet</th>\n",
       "    </tr>\n",
       "    <tr>\n",
       "        <td>Berliner</td>\n",
       "        <td>8</td>\n",
       "    </tr>\n",
       "    <tr>\n",
       "        <td>Nut ring</td>\n",
       "        <td>4</td>\n",
       "    </tr>\n",
       "</table>"
      ],
      "text/plain": [
       "[('Berliner', 8), ('Nut ring', 4)]"
      ]
     },
     "execution_count": 14,
     "metadata": {},
     "output_type": "execute_result"
    }
   ],
   "source": [
    "%%sql\n",
    "-- Show Orders order items for a specific order --\n",
    "Select cookie_name, nbrPallet\n",
    "FROM Order_Bill INNER JOIN OrderItems ON Order_Bill.order_id = OrderItems.order_id\n",
    "WHERE Order_Bill.order_id = 1001"
   ]
  },
  {
   "cell_type": "code",
   "execution_count": 15,
   "metadata": {
    "collapsed": false
   },
   "outputs": [
    {
     "name": "stdout",
     "output_type": "stream",
     "text": [
      "Done.\n"
     ]
    },
    {
     "data": {
      "text/html": [
       "<table>\n",
       "    <tr>\n",
       "        <th>pallet_id</th>\n",
       "        <th>cookie_name</th>\n",
       "        <th>order_id</th>\n",
       "        <th>production_date</th>\n",
       "        <th>location</th>\n",
       "        <th>is_blocked</th>\n",
       "    </tr>\n",
       "    <tr>\n",
       "        <td>1</td>\n",
       "        <td>Nut ring</td>\n",
       "        <td>None</td>\n",
       "        <td>2017-05-24</td>\n",
       "        <td>Freezer</td>\n",
       "        <td>None</td>\n",
       "    </tr>\n",
       "    <tr>\n",
       "        <td>2</td>\n",
       "        <td>Nut ring</td>\n",
       "        <td>None</td>\n",
       "        <td>2017-01-22</td>\n",
       "        <td>Freezer</td>\n",
       "        <td>None</td>\n",
       "    </tr>\n",
       "    <tr>\n",
       "        <td>3</td>\n",
       "        <td>Nut ring</td>\n",
       "        <td>None</td>\n",
       "        <td>2017-01-22</td>\n",
       "        <td>Freezer</td>\n",
       "        <td>None</td>\n",
       "    </tr>\n",
       "    <tr>\n",
       "        <td>4</td>\n",
       "        <td>Nut ring</td>\n",
       "        <td>None</td>\n",
       "        <td>2017-01-22</td>\n",
       "        <td>Freezer</td>\n",
       "        <td>None</td>\n",
       "    </tr>\n",
       "    <tr>\n",
       "        <td>5</td>\n",
       "        <td>Nut ring</td>\n",
       "        <td>None</td>\n",
       "        <td>2017-01-24</td>\n",
       "        <td>Freezer</td>\n",
       "        <td>None</td>\n",
       "    </tr>\n",
       "    <tr>\n",
       "        <td>6</td>\n",
       "        <td>Nut ring</td>\n",
       "        <td>None</td>\n",
       "        <td>2017-01-21</td>\n",
       "        <td>Freezer</td>\n",
       "        <td>None</td>\n",
       "    </tr>\n",
       "    <tr>\n",
       "        <td>7</td>\n",
       "        <td>Nut ring</td>\n",
       "        <td>None</td>\n",
       "        <td>2017-01-21</td>\n",
       "        <td>Freezer</td>\n",
       "        <td>None</td>\n",
       "    </tr>\n",
       "    <tr>\n",
       "        <td>8</td>\n",
       "        <td>Nut ring</td>\n",
       "        <td>None</td>\n",
       "        <td>2017-01-21</td>\n",
       "        <td>Freezer</td>\n",
       "        <td>None</td>\n",
       "    </tr>\n",
       "    <tr>\n",
       "        <td>9</td>\n",
       "        <td>Nut ring</td>\n",
       "        <td>None</td>\n",
       "        <td>2016-12-21</td>\n",
       "        <td>Freezer</td>\n",
       "        <td>None</td>\n",
       "    </tr>\n",
       "    <tr>\n",
       "        <td>10</td>\n",
       "        <td>Nut ring</td>\n",
       "        <td>None</td>\n",
       "        <td>2017-02-21</td>\n",
       "        <td>Freezer</td>\n",
       "        <td>None</td>\n",
       "    </tr>\n",
       "    <tr>\n",
       "        <td>11</td>\n",
       "        <td>Nut ring</td>\n",
       "        <td>None</td>\n",
       "        <td>2017-02-21</td>\n",
       "        <td>Freezer</td>\n",
       "        <td>None</td>\n",
       "    </tr>\n",
       "    <tr>\n",
       "        <td>12</td>\n",
       "        <td>Nut ring</td>\n",
       "        <td>None</td>\n",
       "        <td>2017-02-21</td>\n",
       "        <td>Freezer</td>\n",
       "        <td>None</td>\n",
       "    </tr>\n",
       "    <tr>\n",
       "        <td>13</td>\n",
       "        <td>Nut ring</td>\n",
       "        <td>None</td>\n",
       "        <td>2017-02-21</td>\n",
       "        <td>Freezer</td>\n",
       "        <td>None</td>\n",
       "    </tr>\n",
       "    <tr>\n",
       "        <td>14</td>\n",
       "        <td>Nut ring</td>\n",
       "        <td>None</td>\n",
       "        <td>2017-02-21</td>\n",
       "        <td>Freezer</td>\n",
       "        <td>None</td>\n",
       "    </tr>\n",
       "    <tr>\n",
       "        <td>15</td>\n",
       "        <td>Nut ring</td>\n",
       "        <td>None</td>\n",
       "        <td>2017-02-21</td>\n",
       "        <td>Freezer</td>\n",
       "        <td>None</td>\n",
       "    </tr>\n",
       "    <tr>\n",
       "        <td>16</td>\n",
       "        <td>Nut ring</td>\n",
       "        <td>None</td>\n",
       "        <td>2017-01-22</td>\n",
       "        <td>Freezer</td>\n",
       "        <td>None</td>\n",
       "    </tr>\n",
       "    <tr>\n",
       "        <td>17</td>\n",
       "        <td>Nut cookie</td>\n",
       "        <td>None</td>\n",
       "        <td>2017-01-22</td>\n",
       "        <td>Freezer</td>\n",
       "        <td>None</td>\n",
       "    </tr>\n",
       "    <tr>\n",
       "        <td>18</td>\n",
       "        <td>Nut cookie</td>\n",
       "        <td>None</td>\n",
       "        <td>2017-01-22</td>\n",
       "        <td>Freezer</td>\n",
       "        <td>None</td>\n",
       "    </tr>\n",
       "    <tr>\n",
       "        <td>19</td>\n",
       "        <td>Nut cookie</td>\n",
       "        <td>None</td>\n",
       "        <td>2017-01-24</td>\n",
       "        <td>Freezer</td>\n",
       "        <td>None</td>\n",
       "    </tr>\n",
       "    <tr>\n",
       "        <td>20</td>\n",
       "        <td>Nut cookie</td>\n",
       "        <td>None</td>\n",
       "        <td>2017-01-21</td>\n",
       "        <td>Freezer</td>\n",
       "        <td>None</td>\n",
       "    </tr>\n",
       "    <tr>\n",
       "        <td>21</td>\n",
       "        <td>Nut cookie</td>\n",
       "        <td>None</td>\n",
       "        <td>2017-01-21</td>\n",
       "        <td>Freezer</td>\n",
       "        <td>None</td>\n",
       "    </tr>\n",
       "    <tr>\n",
       "        <td>22</td>\n",
       "        <td>Nut cookie</td>\n",
       "        <td>None</td>\n",
       "        <td>2017-01-21</td>\n",
       "        <td>Freezer</td>\n",
       "        <td>None</td>\n",
       "    </tr>\n",
       "    <tr>\n",
       "        <td>23</td>\n",
       "        <td>Nut cookie</td>\n",
       "        <td>None</td>\n",
       "        <td>2016-12-21</td>\n",
       "        <td>Freezer</td>\n",
       "        <td>None</td>\n",
       "    </tr>\n",
       "    <tr>\n",
       "        <td>24</td>\n",
       "        <td>Nut cookie</td>\n",
       "        <td>None</td>\n",
       "        <td>2017-02-21</td>\n",
       "        <td>Freezer</td>\n",
       "        <td>None</td>\n",
       "    </tr>\n",
       "    <tr>\n",
       "        <td>25</td>\n",
       "        <td>Nut cookie</td>\n",
       "        <td>None</td>\n",
       "        <td>2017-02-21</td>\n",
       "        <td>Freezer</td>\n",
       "        <td>None</td>\n",
       "    </tr>\n",
       "    <tr>\n",
       "        <td>26</td>\n",
       "        <td>Nut cookie</td>\n",
       "        <td>None</td>\n",
       "        <td>2017-02-21</td>\n",
       "        <td>Freezer</td>\n",
       "        <td>None</td>\n",
       "    </tr>\n",
       "    <tr>\n",
       "        <td>27</td>\n",
       "        <td>Nut cookie</td>\n",
       "        <td>None</td>\n",
       "        <td>2017-02-21</td>\n",
       "        <td>Freezer</td>\n",
       "        <td>None</td>\n",
       "    </tr>\n",
       "    <tr>\n",
       "        <td>28</td>\n",
       "        <td>Nut cookie</td>\n",
       "        <td>None</td>\n",
       "        <td>2017-02-21</td>\n",
       "        <td>Freezer</td>\n",
       "        <td>None</td>\n",
       "    </tr>\n",
       "    <tr>\n",
       "        <td>29</td>\n",
       "        <td>Amneris</td>\n",
       "        <td>None</td>\n",
       "        <td>2017-02-21</td>\n",
       "        <td>Freezer</td>\n",
       "        <td>None</td>\n",
       "    </tr>\n",
       "    <tr>\n",
       "        <td>30</td>\n",
       "        <td>Amneris</td>\n",
       "        <td>None</td>\n",
       "        <td>2017-01-22</td>\n",
       "        <td>Freezer</td>\n",
       "        <td>None</td>\n",
       "    </tr>\n",
       "    <tr>\n",
       "        <td>31</td>\n",
       "        <td>Amneris</td>\n",
       "        <td>None</td>\n",
       "        <td>2017-01-22</td>\n",
       "        <td>Freezer</td>\n",
       "        <td>None</td>\n",
       "    </tr>\n",
       "    <tr>\n",
       "        <td>32</td>\n",
       "        <td>Amneris</td>\n",
       "        <td>None</td>\n",
       "        <td>2017-01-22</td>\n",
       "        <td>Freezer</td>\n",
       "        <td>None</td>\n",
       "    </tr>\n",
       "    <tr>\n",
       "        <td>33</td>\n",
       "        <td>Amneris</td>\n",
       "        <td>None</td>\n",
       "        <td>2017-01-24</td>\n",
       "        <td>Freezer</td>\n",
       "        <td>None</td>\n",
       "    </tr>\n",
       "    <tr>\n",
       "        <td>34</td>\n",
       "        <td>Amneris</td>\n",
       "        <td>None</td>\n",
       "        <td>2017-01-21</td>\n",
       "        <td>Freezer</td>\n",
       "        <td>None</td>\n",
       "    </tr>\n",
       "    <tr>\n",
       "        <td>35</td>\n",
       "        <td>Amneris</td>\n",
       "        <td>None</td>\n",
       "        <td>2017-01-21</td>\n",
       "        <td>Freezer</td>\n",
       "        <td>None</td>\n",
       "    </tr>\n",
       "    <tr>\n",
       "        <td>36</td>\n",
       "        <td>Amneris</td>\n",
       "        <td>None</td>\n",
       "        <td>2017-01-21</td>\n",
       "        <td>Freezer</td>\n",
       "        <td>None</td>\n",
       "    </tr>\n",
       "    <tr>\n",
       "        <td>37</td>\n",
       "        <td>Tango</td>\n",
       "        <td>None</td>\n",
       "        <td>2016-12-21</td>\n",
       "        <td>Freezer</td>\n",
       "        <td>None</td>\n",
       "    </tr>\n",
       "    <tr>\n",
       "        <td>38</td>\n",
       "        <td>Tango</td>\n",
       "        <td>None</td>\n",
       "        <td>2017-02-21</td>\n",
       "        <td>Freezer</td>\n",
       "        <td>None</td>\n",
       "    </tr>\n",
       "    <tr>\n",
       "        <td>39</td>\n",
       "        <td>Tango</td>\n",
       "        <td>None</td>\n",
       "        <td>2017-02-21</td>\n",
       "        <td>Freezer</td>\n",
       "        <td>None</td>\n",
       "    </tr>\n",
       "    <tr>\n",
       "        <td>40</td>\n",
       "        <td>Tango</td>\n",
       "        <td>None</td>\n",
       "        <td>2017-02-21</td>\n",
       "        <td>Freezer</td>\n",
       "        <td>None</td>\n",
       "    </tr>\n",
       "    <tr>\n",
       "        <td>41</td>\n",
       "        <td>Tango</td>\n",
       "        <td>None</td>\n",
       "        <td>2017-02-21</td>\n",
       "        <td>Freezer</td>\n",
       "        <td>None</td>\n",
       "    </tr>\n",
       "    <tr>\n",
       "        <td>42</td>\n",
       "        <td>Berliner</td>\n",
       "        <td>None</td>\n",
       "        <td>2017-02-21</td>\n",
       "        <td>Freezer</td>\n",
       "        <td>None</td>\n",
       "    </tr>\n",
       "    <tr>\n",
       "        <td>43</td>\n",
       "        <td>Berliner</td>\n",
       "        <td>None</td>\n",
       "        <td>2017-02-21</td>\n",
       "        <td>Freezer</td>\n",
       "        <td>None</td>\n",
       "    </tr>\n",
       "    <tr>\n",
       "        <td>44</td>\n",
       "        <td>Berliner</td>\n",
       "        <td>None</td>\n",
       "        <td>2017-02-22</td>\n",
       "        <td>Freezer</td>\n",
       "        <td>None</td>\n",
       "    </tr>\n",
       "    <tr>\n",
       "        <td>45</td>\n",
       "        <td>Berliner</td>\n",
       "        <td>None</td>\n",
       "        <td>2017-02-23</td>\n",
       "        <td>Freezer</td>\n",
       "        <td>None</td>\n",
       "    </tr>\n",
       "    <tr>\n",
       "        <td>46</td>\n",
       "        <td>Berliner</td>\n",
       "        <td>None</td>\n",
       "        <td>2017-02-23</td>\n",
       "        <td>Freezer</td>\n",
       "        <td>None</td>\n",
       "    </tr>\n",
       "    <tr>\n",
       "        <td>47</td>\n",
       "        <td>Berliner</td>\n",
       "        <td>None</td>\n",
       "        <td>2017-02-24</td>\n",
       "        <td>Freezer</td>\n",
       "        <td>None</td>\n",
       "    </tr>\n",
       "    <tr>\n",
       "        <td>48</td>\n",
       "        <td>Almond delight</td>\n",
       "        <td>None</td>\n",
       "        <td>2017-02-21</td>\n",
       "        <td>Freezer</td>\n",
       "        <td>None</td>\n",
       "    </tr>\n",
       "    <tr>\n",
       "        <td>49</td>\n",
       "        <td>Almond delight</td>\n",
       "        <td>None</td>\n",
       "        <td>2017-02-21</td>\n",
       "        <td>Freezer</td>\n",
       "        <td>None</td>\n",
       "    </tr>\n",
       "</table>"
      ],
      "text/plain": [
       "[(1, 'Nut ring', None, '2017-05-24', 'Freezer', None),\n",
       " (2, 'Nut ring', None, '2017-01-22', 'Freezer', None),\n",
       " (3, 'Nut ring', None, '2017-01-22', 'Freezer', None),\n",
       " (4, 'Nut ring', None, '2017-01-22', 'Freezer', None),\n",
       " (5, 'Nut ring', None, '2017-01-24', 'Freezer', None),\n",
       " (6, 'Nut ring', None, '2017-01-21', 'Freezer', None),\n",
       " (7, 'Nut ring', None, '2017-01-21', 'Freezer', None),\n",
       " (8, 'Nut ring', None, '2017-01-21', 'Freezer', None),\n",
       " (9, 'Nut ring', None, '2016-12-21', 'Freezer', None),\n",
       " (10, 'Nut ring', None, '2017-02-21', 'Freezer', None),\n",
       " (11, 'Nut ring', None, '2017-02-21', 'Freezer', None),\n",
       " (12, 'Nut ring', None, '2017-02-21', 'Freezer', None),\n",
       " (13, 'Nut ring', None, '2017-02-21', 'Freezer', None),\n",
       " (14, 'Nut ring', None, '2017-02-21', 'Freezer', None),\n",
       " (15, 'Nut ring', None, '2017-02-21', 'Freezer', None),\n",
       " (16, 'Nut ring', None, '2017-01-22', 'Freezer', None),\n",
       " (17, 'Nut cookie', None, '2017-01-22', 'Freezer', None),\n",
       " (18, 'Nut cookie', None, '2017-01-22', 'Freezer', None),\n",
       " (19, 'Nut cookie', None, '2017-01-24', 'Freezer', None),\n",
       " (20, 'Nut cookie', None, '2017-01-21', 'Freezer', None),\n",
       " (21, 'Nut cookie', None, '2017-01-21', 'Freezer', None),\n",
       " (22, 'Nut cookie', None, '2017-01-21', 'Freezer', None),\n",
       " (23, 'Nut cookie', None, '2016-12-21', 'Freezer', None),\n",
       " (24, 'Nut cookie', None, '2017-02-21', 'Freezer', None),\n",
       " (25, 'Nut cookie', None, '2017-02-21', 'Freezer', None),\n",
       " (26, 'Nut cookie', None, '2017-02-21', 'Freezer', None),\n",
       " (27, 'Nut cookie', None, '2017-02-21', 'Freezer', None),\n",
       " (28, 'Nut cookie', None, '2017-02-21', 'Freezer', None),\n",
       " (29, 'Amneris', None, '2017-02-21', 'Freezer', None),\n",
       " (30, 'Amneris', None, '2017-01-22', 'Freezer', None),\n",
       " (31, 'Amneris', None, '2017-01-22', 'Freezer', None),\n",
       " (32, 'Amneris', None, '2017-01-22', 'Freezer', None),\n",
       " (33, 'Amneris', None, '2017-01-24', 'Freezer', None),\n",
       " (34, 'Amneris', None, '2017-01-21', 'Freezer', None),\n",
       " (35, 'Amneris', None, '2017-01-21', 'Freezer', None),\n",
       " (36, 'Amneris', None, '2017-01-21', 'Freezer', None),\n",
       " (37, 'Tango', None, '2016-12-21', 'Freezer', None),\n",
       " (38, 'Tango', None, '2017-02-21', 'Freezer', None),\n",
       " (39, 'Tango', None, '2017-02-21', 'Freezer', None),\n",
       " (40, 'Tango', None, '2017-02-21', 'Freezer', None),\n",
       " (41, 'Tango', None, '2017-02-21', 'Freezer', None),\n",
       " (42, 'Berliner', None, '2017-02-21', 'Freezer', None),\n",
       " (43, 'Berliner', None, '2017-02-21', 'Freezer', None),\n",
       " (44, 'Berliner', None, '2017-02-22', 'Freezer', None),\n",
       " (45, 'Berliner', None, '2017-02-23', 'Freezer', None),\n",
       " (46, 'Berliner', None, '2017-02-23', 'Freezer', None),\n",
       " (47, 'Berliner', None, '2017-02-24', 'Freezer', None),\n",
       " (48, 'Almond delight', None, '2017-02-21', 'Freezer', None),\n",
       " (49, 'Almond delight', None, '2017-02-21', 'Freezer', None)]"
      ]
     },
     "execution_count": 15,
     "metadata": {},
     "output_type": "execute_result"
    }
   ],
   "source": [
    "%%sql\n",
    "-- Show all pallets --\n",
    "SELECT * \n",
    "FROM Pallet \n",
    "--WHERE order_id IS NULL AND is_blocked IS NOT 1 --uncomment for only unconnected pallets \n",
    "ORDER BY order_id DESC\n",
    "\n",
    "\n"
   ]
  },
  {
   "cell_type": "code",
   "execution_count": 16,
   "metadata": {
    "collapsed": false
   },
   "outputs": [
    {
     "name": "stdout",
     "output_type": "stream",
     "text": [
      "(sqlite3.OperationalError) near \"order\": syntax error [SQL: \"-- Connect the oldest produced Berliner to Order id 101 (5 pallets of Berliner)--\\nUPDATE Pallet\\nset order_id = 103\\nWHERE cookie_name = 'Berliner' AND order_id IS NULL AND is_blocked IS NOT 1\\norder by production_date desc\\nlimit 1\"]\n"
     ]
    }
   ],
   "source": [
    "%%sql\n",
    "-- Connect the oldest produced Berliner to Order id 101 (5 pallets of Berliner)--\n",
    "UPDATE Pallet\n",
    "set order_id = 103\n",
    "WHERE cookie_name = 'Berliner' AND order_id IS NULL AND is_blocked IS NOT 1\n",
    "order by production_date desc\n",
    "limit 1"
   ]
  },
  {
   "cell_type": "markdown",
   "metadata": {},
   "source": [
    "# Stuff - Pallets"
   ]
  },
  {
   "cell_type": "code",
   "execution_count": null,
   "metadata": {
    "collapsed": false
   },
   "outputs": [
    {
     "name": "stdout",
     "output_type": "stream",
     "text": [
      "Done.\n"
     ]
    },
    {
     "data": {
      "text/html": [
       "<table>\n",
       "    <tr>\n",
       "        <th>pallet_id</th>\n",
       "        <th>cookie_name</th>\n",
       "        <th>order_id</th>\n",
       "        <th>production_date</th>\n",
       "        <th>location</th>\n",
       "        <th>is_blocked</th>\n",
       "    </tr>\n",
       "    <tr>\n",
       "        <td>42</td>\n",
       "        <td>Berliner</td>\n",
       "        <td>None</td>\n",
       "        <td>2017-02-21</td>\n",
       "        <td>Freezer</td>\n",
       "        <td>None</td>\n",
       "    </tr>\n",
       "    <tr>\n",
       "        <td>43</td>\n",
       "        <td>Berliner</td>\n",
       "        <td>None</td>\n",
       "        <td>2017-02-21</td>\n",
       "        <td>Freezer</td>\n",
       "        <td>None</td>\n",
       "    </tr>\n",
       "    <tr>\n",
       "        <td>44</td>\n",
       "        <td>Berliner</td>\n",
       "        <td>None</td>\n",
       "        <td>2017-02-22</td>\n",
       "        <td>Freezer</td>\n",
       "        <td>None</td>\n",
       "    </tr>\n",
       "    <tr>\n",
       "        <td>45</td>\n",
       "        <td>Berliner</td>\n",
       "        <td>None</td>\n",
       "        <td>2017-02-23</td>\n",
       "        <td>Freezer</td>\n",
       "        <td>None</td>\n",
       "    </tr>\n",
       "    <tr>\n",
       "        <td>46</td>\n",
       "        <td>Berliner</td>\n",
       "        <td>None</td>\n",
       "        <td>2017-02-23</td>\n",
       "        <td>Freezer</td>\n",
       "        <td>None</td>\n",
       "    </tr>\n",
       "</table>"
      ],
      "text/plain": [
       "[(42, 'Berliner', None, '2017-02-21', 'Freezer', None),\n",
       " (43, 'Berliner', None, '2017-02-21', 'Freezer', None),\n",
       " (44, 'Berliner', None, '2017-02-22', 'Freezer', None),\n",
       " (45, 'Berliner', None, '2017-02-23', 'Freezer', None),\n",
       " (46, 'Berliner', None, '2017-02-23', 'Freezer', None)]"
      ]
     },
     "execution_count": 17,
     "metadata": {},
     "output_type": "execute_result"
    }
   ],
   "source": [
    "%%sql\n",
    "-- A list of pallet by cookie type between two dates\n",
    "SELECT *\n",
    "FROM Pallet\n",
    "WHERE cookie_name = 'Berliner' AND\n",
    "production_date BETWEEN \"2017-01-01\" AND \"2017-02-23\""
   ]
  },
  {
   "cell_type": "code",
   "execution_count": null,
   "metadata": {
    "collapsed": false
   },
   "outputs": [],
   "source": [
    "%%sql\n",
    "-- Create a pallet, connected to a unspecific order --\n",
    "INSERT INTO Pallet (cookie_name, order_id, production_date, location, is_blocked)\n",
    "VALUES ('Nut ring', NULL ,'2017-02-12', 'asdghkskajd', NULL);\n",
    "\n"
   ]
  },
  {
   "cell_type": "code",
   "execution_count": null,
   "metadata": {
    "collapsed": false
   },
   "outputs": [],
   "source": [
    "%%sql\n",
    "-- Show all entries of Berliner--\n",
    "SELECT * \n",
    "FROM Pallet\n",
    "WHERE cookie_name = 'Berliner'"
   ]
  },
  {
   "cell_type": "code",
   "execution_count": null,
   "metadata": {
    "collapsed": false
   },
   "outputs": [],
   "source": [
    "%%sql\n",
    "-- Unlock all panels\n",
    "UPDATE Pallet\n",
    "set is_blocked = 0"
   ]
  },
  {
   "cell_type": "code",
   "execution_count": null,
   "metadata": {
    "collapsed": false
   },
   "outputs": [],
   "source": [
    "%%sql\n",
    "-- set delivered\n",
    "UPDATE Pallet\n",
    "set location = 'Delivered'\n",
    "WHERE pallet_id = 45"
   ]
  },
  {
   "cell_type": "code",
   "execution_count": null,
   "metadata": {
    "collapsed": false
   },
   "outputs": [],
   "source": [
    "%%sql\n",
    "-- Show number of Berliner that are unconnected that are not blocked--\n",
    "SELECT COUNT(*) \n",
    "FROM Pallet\n",
    "WHERE cookie_name = 'Berliner' AND order_id IS NULL AND is_blocked = 0"
   ]
  },
  {
   "cell_type": "code",
   "execution_count": null,
   "metadata": {
    "collapsed": false
   },
   "outputs": [],
   "source": [
    "%%sql\n",
    "-- Show number of Berliner left to produce for roder 103 --\n",
    "SELECT COUNT(*) - (SELECT COUNT(*) FROM Pallet WHERE order_id = 103 AND cookie_name = 'Berliner' AND is_blocked IS NOT 1) as Val\n",
    "FROM Pallet\n",
    "WHERE Pallet.cookie_name = 'Berliner' AND Pallet.order_id IS NULL AND is_blocked = 0\n",
    "\n"
   ]
  },
  {
   "cell_type": "markdown",
   "metadata": {},
   "source": [
    "# Uppdatera lagret med råvaror"
   ]
  },
  {
   "cell_type": "code",
   "execution_count": null,
   "metadata": {
    "collapsed": false
   },
   "outputs": [],
   "source": [
    "%%sql\n",
    "SELECT * \n",
    "FROM Ingredient"
   ]
  },
  {
   "cell_type": "code",
   "execution_count": null,
   "metadata": {
    "collapsed": false
   },
   "outputs": [],
   "source": [
    "%%sql\n",
    "-- Fill the database with values\n",
    "UPDATE Ingredient\n",
    "set amount = 500000, refill_date = \"2017-03-19\" --DATE()\n",
    "--WHERE ingredient_name = 'Butter'"
   ]
  },
  {
   "cell_type": "code",
   "execution_count": null,
   "metadata": {
    "collapsed": false
   },
   "outputs": [],
   "source": [
    "%%sql\n",
    "-- Get ingredients needed for a cookie\n",
    "SELECT ingredient_name, amount*54 as 'amount for pallet'\n",
    "FROM RecipeItems\n",
    "Where cookie_name = 'Berliner'"
   ]
  },
  {
   "cell_type": "code",
   "execution_count": null,
   "metadata": {
    "collapsed": false
   },
   "outputs": [],
   "source": [
    "%%sql\n",
    "-- Reduce the ingredient stock version 1\n",
    "-- TODO: replace 1 with 54*amount of a ingredient\n",
    "UPDATE Ingredient\n",
    "set amount = amount - 1\n",
    "WHERE ingredient_name = 'Butter' "
   ]
  },
  {
   "cell_type": "code",
   "execution_count": null,
   "metadata": {
    "collapsed": false
   },
   "outputs": [],
   "source": [
    "%%sql\n",
    "-- Reduce ingredient stock version 2\n",
    "UPDATE Ingredient\n",
    "       set amount = CASE\n",
    "            WHEN ingredient_name = 'Butter' THEN amount - 54*(SELECT amount from RecipeItems WHERE cookie_name = 'Berliner' AND ingredient_name = 'Butter')\n",
    "            WHEN ingredient_name = 'Eggs' THEN amount - 54*(SELECT amount from RecipeItems WHERE cookie_name = 'Berliner' AND ingredient_name = 'Eggs')\n",
    "            WHEN ingredient_name = 'Chocolate' THEN amount - 54*(SELECT amount from RecipeItems WHERE cookie_name = 'Berliner' AND ingredient_name = 'Chocolate')\n",
    "            ELSE amount END"
   ]
  },
  {
   "cell_type": "markdown",
   "metadata": {},
   "source": [
    "# Oh no, the cookie Berliner is infected by a terrible worm! Ach nein!"
   ]
  },
  {
   "cell_type": "code",
   "execution_count": null,
   "metadata": {
    "collapsed": false
   },
   "outputs": [],
   "source": [
    "%%sql\n",
    "-- Block all pallets between two dates\n",
    "UPDATE Pallet\n",
    "    set is_blocked = CASE WHEN cookie_name = 'Berliner' AND location IS NOT 'Delivered' AND production_date BETWEEN \"2016-01-01\" AND \"2018-01-01\"  THEN 1\n",
    "    ELSE is_blocked END\n"
   ]
  },
  {
   "cell_type": "markdown",
   "metadata": {},
   "source": [
    "# Loading Order\n",
    "Customer 1 name, adress, # of pallets of cookie a, # pallets of cookie b"
   ]
  },
  {
   "cell_type": "code",
   "execution_count": null,
   "metadata": {
    "collapsed": true
   },
   "outputs": [],
   "source": []
  },
  {
   "cell_type": "markdown",
   "metadata": {},
   "source": [
    "# Track a pallet\n",
    "see cookie_type, location, delivered, to whom?"
   ]
  },
  {
   "cell_type": "code",
   "execution_count": null,
   "metadata": {
    "collapsed": true
   },
   "outputs": [],
   "source": []
  },
  {
   "cell_type": "markdown",
   "metadata": {},
   "source": [
    "# Listor att exportera"
   ]
  },
  {
   "cell_type": "code",
   "execution_count": null,
   "metadata": {
    "collapsed": false
   },
   "outputs": [],
   "source": [
    "%%sql\n",
    "-- Pallar producerade mellan två datum\n",
    "SELECT * \n",
    "FROM PALLET\n",
    "WHERE production_date BETWEEN \"2016-01-01\" AND \"2017-02-23\""
   ]
  }
 ],
 "metadata": {
  "kernelspec": {
   "display_name": "Python 3",
   "language": "python",
   "name": "python3"
  },
  "language_info": {
   "codemirror_mode": {
    "name": "ipython",
    "version": 3
   },
   "file_extension": ".py",
   "mimetype": "text/x-python",
   "name": "python",
   "nbconvert_exporter": "python",
   "pygments_lexer": "ipython3",
   "version": "3.6.0"
  }
 },
 "nbformat": 4,
 "nbformat_minor": 2
}
