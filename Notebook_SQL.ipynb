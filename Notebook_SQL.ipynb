{
 "cells": [
  {
   "cell_type": "markdown",
   "metadata": {},
   "source": [
    "# EDA216 - Projekt\n",
    "\n",
    "\n",
    "## Preparation\n",
    "\n",
    "Load the Jupyter SQL extension, create a new empty database and load database by evaluating the next cells:"
   ]
  },
  {
   "cell_type": "code",
   "execution_count": null,
   "metadata": {
    "collapsed": false
   },
   "outputs": [],
   "source": [
    "%load_ext sql"
   ]
  },
  {
   "cell_type": "markdown",
   "metadata": {},
   "source": [
    "Ladda in och skapa en test-databas med påhittade värden"
   ]
  },
  {
   "cell_type": "code",
   "execution_count": null,
   "metadata": {
    "collapsed": false
   },
   "outputs": [],
   "source": [
    "%%bash\n",
    "sqlite3 src/notebook.db < src/cookie.sql\n"
   ]
  },
  {
   "cell_type": "code",
   "execution_count": null,
   "metadata": {
    "collapsed": false
   },
   "outputs": [],
   "source": [
    "%%bash\n",
    "sqlite3 src/notebook.db < src/orders.sql"
   ]
  },
  {
   "cell_type": "code",
   "execution_count": null,
   "metadata": {
    "collapsed": false
   },
   "outputs": [],
   "source": [
    "%%bash\n",
    "sqlite3 src/notebook.db < src/pallets.sql\n"
   ]
  },
  {
   "cell_type": "code",
   "execution_count": null,
   "metadata": {
    "collapsed": false
   },
   "outputs": [],
   "source": [
    "%%bash\n",
    "sqlite3 src/notebook.db < src/ingredients.sql"
   ]
  },
  {
   "cell_type": "code",
   "execution_count": null,
   "metadata": {
    "collapsed": false
   },
   "outputs": [],
   "source": [
    "%sql sqlite:///src/notebook.db"
   ]
  },
  {
   "cell_type": "code",
   "execution_count": null,
   "metadata": {
    "collapsed": false
   },
   "outputs": [],
   "source": [
    "%sql PRAGMA foreign_keys=ON;"
   ]
  },
  {
   "cell_type": "markdown",
   "metadata": {},
   "source": [
    "Raderar databasen. Använd ej"
   ]
  },
  {
   "cell_type": "code",
   "execution_count": null,
   "metadata": {
    "collapsed": false
   },
   "outputs": [],
   "source": [
    "%%bash\n",
    "rm -f src/notebook.db"
   ]
  },
  {
   "cell_type": "markdown",
   "metadata": {},
   "source": [
    "# Sql commands - Simple"
   ]
  },
  {
   "cell_type": "code",
   "execution_count": null,
   "metadata": {
    "collapsed": false
   },
   "outputs": [],
   "source": [
    "%%sql\n",
    "-- See all customers --\n",
    "SELECT * \n",
    "FROM Customer"
   ]
  },
  {
   "cell_type": "code",
   "execution_count": null,
   "metadata": {
    "collapsed": false,
    "scrolled": true
   },
   "outputs": [],
   "source": [
    "%%sql\n",
    "-- See all cookies --\n",
    "SELECT *\n",
    "FROM Cookie"
   ]
  },
  {
   "cell_type": "code",
   "execution_count": null,
   "metadata": {
    "collapsed": false
   },
   "outputs": [],
   "source": [
    "%%sql\n",
    "-- See all orders --\n",
    "SELEcT *\n",
    "FROM Order_Bill"
   ]
  },
  {
   "cell_type": "markdown",
   "metadata": {},
   "source": [
    "# FOR CONNECTING PALLETS TO AN ORDER"
   ]
  },
  {
   "cell_type": "code",
   "execution_count": null,
   "metadata": {
    "collapsed": false
   },
   "outputs": [],
   "source": [
    "%%sql\n",
    "-- Adding a new order --\n",
    "INSERT INTO Order_Bill (order_id, /* Order_id must be omitted later */ customer_name, delivery_date)\n",
    "VALUES (1001, /* 1001  must be omitted later */ \"Partykakor AB\", \"2017-08-12\");\n"
   ]
  },
  {
   "cell_type": "code",
   "execution_count": null,
   "metadata": {
    "collapsed": false
   },
   "outputs": [],
   "source": [
    "%%sql\n",
    "INSERT INTO OrderItems (order_id, cookie_name, nbrPallet)\n",
    "VALUES (1001, /* Must be omitted later */ \"Berliner\", 8),\n",
    "(1001, /* Must be omitted later */ \"Nut ring\", 4);"
   ]
  },
  {
   "cell_type": "code",
   "execution_count": null,
   "metadata": {
    "collapsed": false
   },
   "outputs": [],
   "source": [
    "%%sql\n",
    "-- Show Orders order items for a specific order --\n",
    "Select cookie_name, nbrPallet\n",
    "FROM Order_Bill INNER JOIN OrderItems ON Order_Bill.order_id = OrderItems.order_id\n",
    "WHERE Order_Bill.order_id = 1001"
   ]
  },
  {
   "cell_type": "code",
   "execution_count": null,
   "metadata": {
    "collapsed": false
   },
   "outputs": [],
   "source": [
    "%%sql\n",
    "-- Show all pallets --\n",
    "SELECT * \n",
    "FROM Pallet \n",
    "--WHERE order_id IS NULL AND is_blocked IS NOT 1 --uncomment for only unconnected pallets \n",
    "ORDER BY order_id DESC\n",
    "\n",
    "\n"
   ]
  },
  {
   "cell_type": "code",
   "execution_count": null,
   "metadata": {
    "collapsed": false
   },
   "outputs": [],
   "source": [
    "%%sql\n",
    "-- Connect the oldest produced Berliner to Order id 101 (5 pallets of Berliner)--\n",
    "UPDATE Pallet\n",
    "set order_id = 103\n",
    "WHERE cookie_name = 'Berliner' AND order_id IS NULL AND is_blocked IS NOT 1\n",
    "order by production_date desc\n",
    "limit 1"
   ]
  },
  {
   "cell_type": "markdown",
   "metadata": {},
   "source": [
    "# Stuff - Pallets"
   ]
  },
  {
   "cell_type": "code",
   "execution_count": null,
   "metadata": {
    "collapsed": false
   },
   "outputs": [],
   "source": [
    "%%sql\n",
    "-- A list of pallet by cookie type between two dates\n",
    "SELECT *\n",
    "FROM Pallet\n",
    "WHERE cookie_name = 'Berliner' AND\n",
    "production_date BETWEEN \"2017-01-01\" AND \"2017-02-23\""
   ]
  },
  {
   "cell_type": "code",
   "execution_count": null,
   "metadata": {
    "collapsed": false
   },
   "outputs": [],
   "source": [
    "%%sql\n",
    "-- Create a pallet, connected to a unspecific order --\n",
    "INSERT INTO Pallet (cookie_name, order_id, production_date, location, is_blocked)\n",
    "VALUES ('Nut ring', NULL ,'2017-02-12', 'asdghkskajd', NULL);\n",
    "\n"
   ]
  },
  {
   "cell_type": "code",
   "execution_count": null,
   "metadata": {
    "collapsed": false
   },
   "outputs": [],
   "source": [
    "%%sql\n",
    "-- Show all entries of Berliner--\n",
    "SELECT * \n",
    "FROM Pallet\n",
    "WHERE cookie_name = 'Berliner'"
   ]
  },
  {
   "cell_type": "code",
   "execution_count": null,
   "metadata": {
    "collapsed": false
   },
   "outputs": [],
   "source": [
    "%%sql\n",
    "-- Unlock all panels\n",
    "UPDATE Pallet\n",
    "set is_blocked = 0"
   ]
  },
  {
   "cell_type": "code",
   "execution_count": null,
   "metadata": {
    "collapsed": false
   },
   "outputs": [],
   "source": [
    "%%sql\n",
    "-- set delivered\n",
    "UPDATE Pallet\n",
    "set location = 'Delivered'\n",
    "WHERE pallet_id = 45"
   ]
  },
  {
   "cell_type": "code",
   "execution_count": null,
   "metadata": {
    "collapsed": false
   },
   "outputs": [],
   "source": [
    "%%sql\n",
    "-- Show number of Berliner that are unconnected that are not blocked--\n",
    "SELECT COUNT(*) \n",
    "FROM Pallet\n",
    "WHERE cookie_name = 'Berliner' AND order_id IS NULL AND is_blocked = 0"
   ]
  },
  {
   "cell_type": "code",
   "execution_count": null,
   "metadata": {
    "collapsed": false
   },
   "outputs": [],
   "source": [
    "%%sql\n",
    "-- Show number of Berliner left to produce for roder 103 --\n",
    "SELECT COUNT(*) - (SELECT COUNT(*) FROM Pallet WHERE order_id = 103 AND cookie_name = 'Berliner' AND is_blocked IS NOT 1) as Val\n",
    "FROM Pallet\n",
    "WHERE Pallet.cookie_name = 'Berliner' AND Pallet.order_id IS NULL AND is_blocked = 0\n",
    "\n"
   ]
  },
  {
   "cell_type": "markdown",
   "metadata": {},
   "source": [
    "# Uppdatera lagret med råvaror"
   ]
  },
  {
   "cell_type": "code",
   "execution_count": null,
   "metadata": {
    "collapsed": false
   },
   "outputs": [],
   "source": [
    "%%sql\n",
    "SELECT * \n",
    "FROM Ingredient"
   ]
  },
  {
   "cell_type": "code",
   "execution_count": null,
   "metadata": {
    "collapsed": false
   },
   "outputs": [],
   "source": [
    "%%sql\n",
    "-- Fill the database with values\n",
    "UPDATE Ingredient\n",
    "set amount = 500000, refill_date = \"2017-03-19\" --DATE()\n",
    "--WHERE ingredient_name = 'Butter'"
   ]
  },
  {
   "cell_type": "code",
   "execution_count": null,
   "metadata": {
    "collapsed": false
   },
   "outputs": [],
   "source": [
    "%%sql\n",
    "-- Get ingredients needed for a cookie\n",
    "SELECT ingredient_name, amount*54 as 'amount for pallet'\n",
    "FROM RecipeItems\n",
    "Where cookie_name = 'Berliner'"
   ]
  },
  {
   "cell_type": "code",
   "execution_count": null,
   "metadata": {
    "collapsed": false
   },
   "outputs": [],
   "source": [
    "%%sql\n",
    "-- Reduce the ingredient stock version 1\n",
    "-- TODO: replace 1 with 54*amount of a ingredient\n",
    "UPDATE Ingredient\n",
    "set amount = amount - 1\n",
    "WHERE ingredient_name = 'Butter' "
   ]
  },
  {
   "cell_type": "code",
   "execution_count": null,
   "metadata": {
    "collapsed": false
   },
   "outputs": [],
   "source": [
    "%%sql\n",
    "-- Reduce ingredient stock version 2\n",
    "UPDATE Ingredient\n",
    "       set amount = CASE\n",
    "            WHEN ingredient_name = 'Butter' THEN amount - 54*(SELECT amount from RecipeItems WHERE cookie_name = 'Berliner' AND ingredient_name = 'Butter')\n",
    "            WHEN ingredient_name = 'Eggs' THEN amount - 54*(SELECT amount from RecipeItems WHERE cookie_name = 'Berliner' AND ingredient_name = 'Eggs')\n",
    "            WHEN ingredient_name = 'Chocolate' THEN amount - 54*(SELECT amount from RecipeItems WHERE cookie_name = 'Berliner' AND ingredient_name = 'Chocolate')\n",
    "            ELSE amount END"
   ]
  },
  {
   "cell_type": "markdown",
   "metadata": {},
   "source": [
    "# Oh no, the cookie Berliner is infected by a terrible worm! Ach nein!"
   ]
  },
  {
   "cell_type": "code",
   "execution_count": null,
   "metadata": {
    "collapsed": false
   },
   "outputs": [],
   "source": [
    "%%sql\n",
    "-- Block all pallets between two dates\n",
    "UPDATE Pallet\n",
    "    set is_blocked = CASE WHEN cookie_name = 'Berliner' AND location IS NOT 'Delivered' AND production_date BETWEEN '2016-01-01' AND '2018-01-01'  THEN 1\n",
    "    ELSE is_blocked END\n"
   ]
  },
  {
   "cell_type": "markdown",
   "metadata": {},
   "source": [
    "# Loading Order\n",
    "Customer 1 name, adress, # of pallets of cookie a, # pallets of cookie b"
   ]
  },
  {
   "cell_type": "code",
   "execution_count": null,
   "metadata": {
    "collapsed": true
   },
   "outputs": [],
   "source": []
  },
  {
   "cell_type": "markdown",
   "metadata": {},
   "source": [
    "# Track a pallet\n",
    "see cookie_type, location, delivered, to whom?"
   ]
  },
  {
   "cell_type": "code",
   "execution_count": null,
   "metadata": {
    "collapsed": true
   },
   "outputs": [],
   "source": []
  },
  {
   "cell_type": "markdown",
   "metadata": {},
   "source": [
    "# Listor att exportera"
   ]
  },
  {
   "cell_type": "code",
   "execution_count": null,
   "metadata": {
    "collapsed": false
   },
   "outputs": [],
   "source": [
    "%%sql\n",
    "-- Pallar producerade mellan två datum\n",
    "SELECT * \n",
    "FROM PALLET\n",
    "WHERE production_date BETWEEN \"2016-01-01\" AND \"2017-02-23\""
   ]
  },
  {
   "cell_type": "code",
   "execution_count": null,
   "metadata": {
    "collapsed": false
   },
   "outputs": [],
   "source": [
    "%%sql\n",
    "-- Blockerade pallar\n",
    "SELECT pallet_id\n",
    "FROM PALLET\n",
    "WHERE is_blocked = 1"
   ]
  }
 ],
 "metadata": {
  "kernelspec": {
   "display_name": "Python 3",
   "language": "python",
   "name": "python3"
  },
  "language_info": {
   "codemirror_mode": {
    "name": "ipython",
    "version": 3
   },
   "file_extension": ".py",
   "mimetype": "text/x-python",
   "name": "python",
   "nbconvert_exporter": "python",
   "pygments_lexer": "ipython3",
   "version": "3.6.0"
  }
 },
 "nbformat": 4,
 "nbformat_minor": 2
}
